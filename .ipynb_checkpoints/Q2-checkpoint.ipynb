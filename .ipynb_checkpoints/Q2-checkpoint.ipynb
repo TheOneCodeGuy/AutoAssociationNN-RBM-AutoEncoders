{
 "cells": [
  {
   "cell_type": "code",
   "execution_count": null,
   "metadata": {
    "colab": {
     "base_uri": "https://localhost:8080/",
     "height": 102
    },
    "colab_type": "code",
    "id": "AIldeHYFipEN",
    "outputId": "700ab7a7-68bc-4c63-c8ae-f01826619063"
   },
   "outputs": [
    {
     "name": "stdout",
     "output_type": "stream",
     "text": [
      "Requirement already satisfied: pyunpack in /usr/local/lib/python3.6/dist-packages (0.2.1)\n",
      "Requirement already satisfied: easyprocess in /usr/local/lib/python3.6/dist-packages (from pyunpack) (0.3)\n",
      "Requirement already satisfied: entrypoint2 in /usr/local/lib/python3.6/dist-packages (from pyunpack) (0.2.1)\n",
      "Requirement already satisfied: argparse in /usr/local/lib/python3.6/dist-packages (from entrypoint2->pyunpack) (1.4.0)\n",
      "Requirement already satisfied: patool in /usr/local/lib/python3.6/dist-packages (1.12)\n"
     ]
    }
   ],
   "source": [
    "# !pip install pyunpack\n",
    "# !pip install patool"
   ]
  },
  {
   "cell_type": "code",
   "execution_count": 2,
   "metadata": {
    "colab": {
     "base_uri": "https://localhost:8080/",
     "height": 34
    },
    "colab_type": "code",
    "id": "lJD91Ep72TYz",
    "outputId": "48e54d83-b752-4b6f-f989-2d97edcded97"
   },
   "outputs": [
    {
     "name": "stdout",
     "output_type": "stream",
     "text": [
      "Drive already mounted at /content/drive; to attempt to forcibly remount, call drive.mount(\"/content/drive\", force_remount=True).\n"
     ]
    }
   ],
   "source": [
    "# from google.colab import drive\n",
    "# drive.mount('/content/drive')"
   ]
  },
  {
   "cell_type": "code",
   "execution_count": null,
   "metadata": {
    "colab": {},
    "colab_type": "code",
    "id": "s7xRvOOGcsL7"
   },
   "outputs": [],
   "source": [
    "# from pyunpack import Archive\n",
    "# Archive('/content/drive/My Drive/Data_Set_2(Black_and_white_images).rar').extractall('/content/drive/My Drive/Data_Set_2(Black_and_white_images)')"
   ]
  },
  {
   "cell_type": "code",
   "execution_count": 1,
   "metadata": {
    "colab": {},
    "colab_type": "code",
    "id": "JTvZrj6Tb9CW"
   },
   "outputs": [],
   "source": [
    "import torch\n",
    "import torchvision\n",
    "import torchvision.transforms as transforms\n",
    "import tarfile\n",
    "import pandas as pd\n",
    "import os\n",
    "import re\n",
    "from torch.utils.data import Dataset, DataLoader, ConcatDataset, random_split\n",
    "import torch.nn as nn\n",
    "import torch.nn.functional as F\n",
    "import numpy as np\n",
    "import matplotlib.pyplot as plt\n",
    "import torch.optim as optim\n",
    "from sklearn.metrics import confusion_matrix\n",
    "from sklearn.decomposition import PCA\n",
    "from io import StringIO"
   ]
  },
  {
   "cell_type": "code",
   "execution_count": 2,
   "metadata": {
    "colab": {},
    "colab_type": "code",
    "id": "7nIBihjGb9Cm"
   },
   "outputs": [],
   "source": [
    "class DatasetClass(Dataset):\n",
    "    \n",
    "    def __init__(self, folder, filename, label_dict):\n",
    "        \n",
    "        self.data = []\n",
    "        self.filename = filename\n",
    "        tar = tarfile.open(folder + '/' + filename)\n",
    "        for file in tar.getmembers():\n",
    "            f = tar.extractfile(file)\n",
    "            if f != None:\n",
    "                content = pd.read_csv(StringIO(f.read().decode()), sep=' ', header=None).values.ravel()\n",
    "                self.data.append(content)\n",
    "            \n",
    "        self.y = torch.tensor(label_dict[self.filename[:-7]], dtype=torch.long)\n",
    "    \n",
    "    def __getitem__(self, idx):     \n",
    "        \n",
    "        return torch.tensor(self.data[idx], dtype=torch.float), self.y\n",
    "      \n",
    "    def __len__(self):\n",
    "        \n",
    "        return len(self.data)"
   ]
  },
  {
   "cell_type": "code",
   "execution_count": 3,
   "metadata": {
    "colab": {},
    "colab_type": "code",
    "id": "abtj_RwNb9Cw"
   },
   "outputs": [],
   "source": [
    "def train_test_loader(directory, label_dict, train_fraction=0.8, num_workers=2):\n",
    "\n",
    "    all_files = list(filter(lambda x: x.endswith('.tar.gz'), os.listdir(directory)))\n",
    "    files = [file for file in all_files if file[:-7] in label_dict.keys()]\n",
    "    \n",
    "    datasets = list(map(lambda x : DatasetClass(directory, x, label_dict), files))\n",
    "    dataset = ConcatDataset(datasets)\n",
    "    N = dataset.cumulative_sizes[-1]\n",
    "    \n",
    "    train_size = int(N*train_fraction)\n",
    "    test_size = N - train_size\n",
    "\n",
    "    train_data, test_data = torch.utils.data.random_split(dataset, [train_size, test_size])\n",
    "\n",
    "    trainloader = DataLoader(train_data, batch_size=32, shuffle=True, num_workers=num_workers)\n",
    "    testloader = DataLoader(test_data, batch_size=32, shuffle=True, num_workers=num_workers)\n",
    "    \n",
    "    return trainloader, testloader, train_size, test_size"
   ]
  },
  {
   "cell_type": "code",
   "execution_count": 4,
   "metadata": {
    "colab": {},
    "colab_type": "code",
    "id": "tRYvvEcXb9C5"
   },
   "outputs": [
    {
     "ename": "FileNotFoundError",
     "evalue": "[WinError 3] The system cannot find the path specified: '/content/drive/My Drive/Data_Set_1(Colored_Images)'",
     "output_type": "error",
     "traceback": [
      "\u001b[1;31m---------------------------------------------------------------------------\u001b[0m",
      "\u001b[1;31mFileNotFoundError\u001b[0m                         Traceback (most recent call last)",
      "\u001b[1;32m<ipython-input-4-67ea2c10c5c4>\u001b[0m in \u001b[0;36m<module>\u001b[1;34m\u001b[0m\n\u001b[0;32m      7\u001b[0m }\n\u001b[0;32m      8\u001b[0m \u001b[1;33m\u001b[0m\u001b[0m\n\u001b[1;32m----> 9\u001b[1;33m \u001b[0mtrainloader\u001b[0m\u001b[1;33m,\u001b[0m \u001b[0mtestloader\u001b[0m\u001b[1;33m,\u001b[0m \u001b[0mtrain_size\u001b[0m\u001b[1;33m,\u001b[0m \u001b[0mtest_size\u001b[0m \u001b[1;33m=\u001b[0m \u001b[0mtrain_test_loader\u001b[0m\u001b[1;33m(\u001b[0m\u001b[1;34m'/content/drive/My Drive/Data_Set_1(Colored_Images)'\u001b[0m\u001b[1;33m,\u001b[0m \u001b[0mlabel_dict\u001b[0m\u001b[1;33m,\u001b[0m \u001b[0mtrain_fraction\u001b[0m\u001b[1;33m=\u001b[0m\u001b[1;36m0.8\u001b[0m\u001b[1;33m,\u001b[0m \u001b[0mnum_workers\u001b[0m\u001b[1;33m=\u001b[0m\u001b[1;36m0\u001b[0m\u001b[1;33m)\u001b[0m\u001b[1;33m\u001b[0m\u001b[1;33m\u001b[0m\u001b[0m\n\u001b[0m",
      "\u001b[1;32m<ipython-input-3-d081945e3d5c>\u001b[0m in \u001b[0;36mtrain_test_loader\u001b[1;34m(directory, label_dict, train_fraction, num_workers)\u001b[0m\n\u001b[0;32m      1\u001b[0m \u001b[1;32mdef\u001b[0m \u001b[0mtrain_test_loader\u001b[0m\u001b[1;33m(\u001b[0m\u001b[0mdirectory\u001b[0m\u001b[1;33m,\u001b[0m \u001b[0mlabel_dict\u001b[0m\u001b[1;33m,\u001b[0m \u001b[0mtrain_fraction\u001b[0m\u001b[1;33m=\u001b[0m\u001b[1;36m0.8\u001b[0m\u001b[1;33m,\u001b[0m \u001b[0mnum_workers\u001b[0m\u001b[1;33m=\u001b[0m\u001b[1;36m2\u001b[0m\u001b[1;33m)\u001b[0m\u001b[1;33m:\u001b[0m\u001b[1;33m\u001b[0m\u001b[1;33m\u001b[0m\u001b[0m\n\u001b[0;32m      2\u001b[0m \u001b[1;33m\u001b[0m\u001b[0m\n\u001b[1;32m----> 3\u001b[1;33m     \u001b[0mall_files\u001b[0m \u001b[1;33m=\u001b[0m \u001b[0mlist\u001b[0m\u001b[1;33m(\u001b[0m\u001b[0mfilter\u001b[0m\u001b[1;33m(\u001b[0m\u001b[1;32mlambda\u001b[0m \u001b[0mx\u001b[0m\u001b[1;33m:\u001b[0m \u001b[0mx\u001b[0m\u001b[1;33m.\u001b[0m\u001b[0mendswith\u001b[0m\u001b[1;33m(\u001b[0m\u001b[1;34m'.tar.gz'\u001b[0m\u001b[1;33m)\u001b[0m\u001b[1;33m,\u001b[0m \u001b[0mos\u001b[0m\u001b[1;33m.\u001b[0m\u001b[0mlistdir\u001b[0m\u001b[1;33m(\u001b[0m\u001b[0mdirectory\u001b[0m\u001b[1;33m)\u001b[0m\u001b[1;33m)\u001b[0m\u001b[1;33m)\u001b[0m\u001b[1;33m\u001b[0m\u001b[1;33m\u001b[0m\u001b[0m\n\u001b[0m\u001b[0;32m      4\u001b[0m     \u001b[0mfiles\u001b[0m \u001b[1;33m=\u001b[0m \u001b[1;33m[\u001b[0m\u001b[0mfile\u001b[0m \u001b[1;32mfor\u001b[0m \u001b[0mfile\u001b[0m \u001b[1;32min\u001b[0m \u001b[0mall_files\u001b[0m \u001b[1;32mif\u001b[0m \u001b[0mfile\u001b[0m\u001b[1;33m[\u001b[0m\u001b[1;33m:\u001b[0m\u001b[1;33m-\u001b[0m\u001b[1;36m7\u001b[0m\u001b[1;33m]\u001b[0m \u001b[1;32min\u001b[0m \u001b[0mlabel_dict\u001b[0m\u001b[1;33m.\u001b[0m\u001b[0mkeys\u001b[0m\u001b[1;33m(\u001b[0m\u001b[1;33m)\u001b[0m\u001b[1;33m]\u001b[0m\u001b[1;33m\u001b[0m\u001b[1;33m\u001b[0m\u001b[0m\n\u001b[0;32m      5\u001b[0m \u001b[1;33m\u001b[0m\u001b[0m\n",
      "\u001b[1;31mFileNotFoundError\u001b[0m: [WinError 3] The system cannot find the path specified: '/content/drive/My Drive/Data_Set_1(Colored_Images)'"
     ]
    }
   ],
   "source": [
    "label_dict = {\n",
    "    'tallbuilding': 1,\n",
    "    'mountain': 4,\n",
    "    'highway': 6,\n",
    "    'coast': 8, \n",
    "    'opencountry': 3\n",
    "}\n",
    "\n",
    "trainloader, testloader, train_size, test_size = train_test_loader('/content/drive/My Drive/Data_Set_1(Colored_Images)', label_dict, train_fraction=0.8, num_workers=0)"
   ]
  },
  {
   "cell_type": "code",
   "execution_count": 6,
   "metadata": {
    "colab": {},
    "colab_type": "code",
    "id": "1hHs6vC6b9C-"
   },
   "outputs": [],
   "source": [
    "class AutoEncoder(nn.Module):\n",
    "    \n",
    "    def __init__(self, n_features, h_layer_sizes):\n",
    "        super(AutoEncoder, self).__init__()\n",
    "        \n",
    "        self.fc1 = nn.Linear(n_features, h_layer_sizes[0])\n",
    "        self.fc2 = nn.Linear(h_layer_sizes[0], h_layer_sizes[1])\n",
    "        self.fc3 = nn.Linear(h_layer_sizes[1], h_layer_sizes[2])\n",
    "        self.out = nn.Linear(h_layer_sizes[2], n_features)\n",
    "        \n",
    "    def forward(self, x):\n",
    "        \n",
    "        x = torch.tanh(self.fc1(x)) # Hidden Layer 1 (Tanh)\n",
    "        x = self.fc2(x)    # Hidden Layer 2 (Linear)\n",
    "        x = torch.tanh(self.fc3(x)) # Hidden Layer 3 (Tanh)\n",
    "        x = self.out(x) # Output Layer (Linear)\n",
    "        \n",
    "        return x\n",
    "    \n",
    "    def get_z(self, x):\n",
    "        \n",
    "        z = torch.tanh(self.fc1(x))\n",
    "        z = self.fc2(z)\n",
    "        \n",
    "        return z"
   ]
  },
  {
   "cell_type": "code",
   "execution_count": 7,
   "metadata": {
    "colab": {
     "base_uri": "https://localhost:8080/",
     "height": 34
    },
    "colab_type": "code",
    "id": "0e_pNIyEb9DE",
    "outputId": "4e13d977-7d59-4a5d-b865-b6c6b682d7e1"
   },
   "outputs": [
    {
     "name": "stdout",
     "output_type": "stream",
     "text": [
      "cuda:0\n"
     ]
    }
   ],
   "source": [
    "criterion = nn.MSELoss()\n",
    "device = torch.device(\"cuda:0\" if torch.cuda.is_available() else \"cpu\")\n",
    "print(device)"
   ]
  },
  {
   "cell_type": "code",
   "execution_count": 8,
   "metadata": {
    "colab": {},
    "colab_type": "code",
    "id": "ZSWJgWEucK0r"
   },
   "outputs": [],
   "source": [
    "X_train = []\n",
    "for X, y in trainloader:\n",
    "  X_train.extend(X.numpy())\n",
    "X_train = np.array(X_train)"
   ]
  },
  {
   "cell_type": "code",
   "execution_count": 9,
   "metadata": {
    "colab": {
     "base_uri": "https://localhost:8080/",
     "height": 282
    },
    "colab_type": "code",
    "id": "BEICm-tqcEBv",
    "outputId": "88abb80e-337b-4199-8c17-3e0d5656a931"
   },
   "outputs": [
    {
     "name": "stdout",
     "output_type": "stream",
     "text": [
      "97% Variance Explained: 228\n"
     ]
    },
    {
     "data": {
      "image/png": "[encoded data removed]",
      "text/plain": [
       "<Figure size 432x288 with 1 Axes>"
      ]
     },
     "metadata": {
      "needs_background": "light",
      "tags": []
     },
     "output_type": "display_data"
    }
   ],
   "source": [
    "pca1 = PCA(n_components=X_train.shape[1])\n",
    "pca1.fit(X_train)\n",
    "\n",
    "print('97% Variance Explained:', np.where(np.cumsum(pca1.explained_variance_ratio_)>=0.97)[0][0]+1)\n",
    "explained_var = np.cumsum(pca1.explained_variance_ratio_)\n",
    "plt.plot(explained_var)\n",
    "plt.show()"
   ]
  },
  {
   "cell_type": "code",
   "execution_count": 10,
   "metadata": {
    "colab": {},
    "colab_type": "code",
    "id": "Ru64o3f2b9DO"
   },
   "outputs": [],
   "source": [
    "ae1 = AutoEncoder(828, [400, 200, 400])\n",
    "ae1 = ae1.to(device)\n",
    "optimizer1 = optim.SGD(ae1.parameters(), lr=0.001, momentum=0.8)"
   ]
  },
  {
   "cell_type": "code",
   "execution_count": 11,
   "metadata": {
    "colab": {
     "base_uri": "https://localhost:8080/",
     "height": 544
    },
    "colab_type": "code",
    "id": "trgn2rUeb9DY",
    "outputId": "bcc957c7-0b05-4bbb-f0ca-7b8a9ccff371"
   },
   "outputs": [
    {
     "name": "stdout",
     "output_type": "stream",
     "text": [
      "Epoch 1 : Loss = 1.9012822590091012\n",
      "Epoch 2 : Loss = 1.7967509573156184\n",
      "Epoch 3 : Loss = 1.6693159152160992\n",
      "Epoch 4 : Loss = 1.5046705928715793\n",
      "Epoch 5 : Loss = 1.3090349408713253\n",
      "Epoch 6 : Loss = 1.1017720726403324\n",
      "Epoch 7 : Loss = 0.9050168191844766\n",
      "Epoch 8 : Loss = 0.7340416339310732\n",
      "Epoch 9 : Loss = 0.5951979905366898\n",
      "Epoch 10 : Loss = 0.48746661977334454\n",
      "Epoch 11 : Loss = 0.40666113048791885\n",
      "Epoch 12 : Loss = 0.3473695638504895\n",
      "Epoch 13 : Loss = 0.30454966019500385\n",
      "Epoch 14 : Loss = 0.2739011652090333\n",
      "Epoch 15 : Loss = 0.25218075581572275\n",
      "Epoch 16 : Loss = 0.2368204082277688\n",
      "Epoch 17 : Loss = 0.22603203457864848\n",
      "Epoch 18 : Loss = 0.21846332401037216\n",
      "Epoch 19 : Loss = 0.21314556795087727\n",
      "Epoch 20 : Loss = 0.20942486416209827\n",
      "Epoch 21 : Loss = 0.20681932771747763\n",
      "Epoch 22 : Loss = 0.20499583401463248\n",
      "Epoch 23 : Loss = 0.2037038105455312\n",
      "Epoch 24 : Loss = 0.20279948752034793\n",
      "Epoch 25 : Loss = 0.20216181434013628\n",
      "Epoch 26 : Loss = 0.20170859958637843\n",
      "Epoch 27 : Loss = 0.2013870511542667\n",
      "Epoch 28 : Loss = 0.2011531594802033\n",
      "Epoch 29 : Loss = 0.20098208297382703\n",
      "Converged\n",
      "Finished Training\n"
     ]
    }
   ],
   "source": [
    "old_loss = np.inf\n",
    "\n",
    "max_epoch = 50\n",
    "\n",
    "for epoch in range(max_epoch):\n",
    "\n",
    "    running_loss = 0.0\n",
    "    len_ = 0\n",
    "    \n",
    "    for data in trainloader:\n",
    "        \n",
    "        X, _ = data[0].to(device), data[1].to(device)\n",
    "        \n",
    "        optimizer1.zero_grad()\n",
    "        \n",
    "        # Reconstructed Representation of X (forward)\n",
    "        X_hat = ae1(X)\n",
    "        \n",
    "        # Calculate Loss (MSE)\n",
    "        loss = criterion(X_hat, X)\n",
    "        \n",
    "        # Backpropagation\n",
    "        loss.backward()\n",
    "        \n",
    "        # Update Parameters\n",
    "        optimizer1.step()\n",
    "        \n",
    "        running_loss += loss.item()*len(X)\n",
    "    \n",
    "    print('Epoch', epoch+1, ': Loss =', running_loss/train_size)\n",
    "    \n",
    "    if (abs(running_loss-old_loss)/running_loss < 1e-3):\n",
    "        print('Converged')\n",
    "        break\n",
    "    \n",
    "    old_loss = running_loss\n",
    "\n",
    "print('Finished Training')"
   ]
  },
  {
   "cell_type": "code",
   "execution_count": 12,
   "metadata": {
    "colab": {
     "base_uri": "https://localhost:8080/",
     "height": 34
    },
    "colab_type": "code",
    "id": "IzLhTvpq1zft",
    "outputId": "49e601ae-c66f-4806-82c7-d976d3849e59"
   },
   "outputs": [
    {
     "name": "stdout",
     "output_type": "stream",
     "text": [
      "0.20229776880957864\n"
     ]
    }
   ],
   "source": [
    "test_loss = 0.0\n",
    "\n",
    "for data in testloader:\n",
    "        \n",
    "    X, _ = data[0].to(device), data[1].to(device)\n",
    "    with torch.no_grad():\n",
    "      X_pred = ae1(X)\n",
    "      loss = criterion(X_pred, X)\n",
    "\n",
    "    test_loss += loss.item()*len(X)\n",
    "\n",
    "test_loss = test_loss/test_size\n",
    "print(test_loss)"
   ]
  },
  {
   "cell_type": "code",
   "execution_count": 13,
   "metadata": {
    "colab": {},
    "colab_type": "code",
    "id": "kQpvQyBK5CnJ"
   },
   "outputs": [],
   "source": [
    "Z1_array = []\n",
    "\n",
    "for data in trainloader:\n",
    "        \n",
    "    X, _ = data[0].to(device), data[1].to(device)\n",
    "    with torch.no_grad():\n",
    "      Z1 = ae1.get_z(X)\n",
    "\n",
    "    if len(Z1_array) == 0:\n",
    "        Z1_array = Z1.cpu().numpy()\n",
    "    else:\n",
    "        Z1_array = np.append(Z1_array, Z1.cpu().numpy(), axis=0)"
   ]
  },
  {
   "cell_type": "code",
   "execution_count": 14,
   "metadata": {
    "colab": {
     "base_uri": "https://localhost:8080/",
     "height": 282
    },
    "colab_type": "code",
    "id": "TA2o4c0KivOE",
    "outputId": "a47f1727-e771-4108-c554-a81870df2ef8"
   },
   "outputs": [
    {
     "name": "stdout",
     "output_type": "stream",
     "text": [
      "97% Variance Explained: 79\n"
     ]
    },
    {
     "data": {
      "image/png": "[encoded data removed]",
      "text/plain": [
       "<Figure size 432x288 with 1 Axes>"
      ]
     },
     "metadata": {
      "needs_background": "light",
      "tags": []
     },
     "output_type": "display_data"
    }
   ],
   "source": [
    "pca2 = PCA(n_components=Z1_array.shape[1])\n",
    "pca2.fit(Z1_array)\n",
    "print('97% Variance Explained:', np.where(np.cumsum(pca2.explained_variance_ratio_)>=0.97)[0][0]+1)\n",
    "\n",
    "explained_var = np.cumsum(pca2.explained_variance_ratio_)\n",
    "plt.plot(explained_var)\n",
    "plt.show()"
   ]
  },
  {
   "cell_type": "code",
   "execution_count": 15,
   "metadata": {
    "colab": {},
    "colab_type": "code",
    "id": "pwcvgUCVb9Df"
   },
   "outputs": [],
   "source": [
    "ae2 = AutoEncoder(200, [150, 75, 150])\n",
    "optimizer2 = optim.SGD(ae2.parameters(), lr=0.001, momentum=0.9)\n",
    "ae2 = ae2.to(device)"
   ]
  },
  {
   "cell_type": "code",
   "execution_count": 16,
   "metadata": {
    "colab": {
     "base_uri": "https://localhost:8080/",
     "height": 289
    },
    "colab_type": "code",
    "id": "J144k8cub9Dn",
    "outputId": "eccece15-4fb9-415f-c5f5-e305306a3146"
   },
   "outputs": [
    {
     "name": "stdout",
     "output_type": "stream",
     "text": [
      "Epoch 1 : Loss = 104.38070511817932\n",
      "Epoch 2 : Loss = 71.51833832263947\n",
      "Epoch 3 : Loss = 33.95263448357582\n",
      "Epoch 4 : Loss = 12.14905121922493\n",
      "Epoch 5 : Loss = 3.887715704739094\n",
      "Epoch 6 : Loss = 1.3063957318663597\n",
      "Epoch 7 : Loss = 0.5579443154856563\n",
      "Epoch 8 : Loss = 0.34575224947184324\n",
      "Epoch 9 : Loss = 0.2851791400462389\n",
      "Epoch 10 : Loss = 0.26804187055677176\n",
      "Epoch 11 : Loss = 0.2630099579691887\n",
      "Epoch 12 : Loss = 0.26145230093970895\n",
      "Epoch 13 : Loss = 0.26106247724965215\n",
      "Epoch 14 : Loss = 0.2608335171826184\n",
      "Converged\n",
      "Finished Training\n"
     ]
    }
   ],
   "source": [
    "old_loss = np.inf\n",
    "\n",
    "max_epoch = 500\n",
    "\n",
    "for epoch in range(max_epoch):\n",
    "\n",
    "    running_loss = 0.0\n",
    "    \n",
    "    for data in trainloader:\n",
    "        \n",
    "        X, _ = data[0].to(device), data[1].to(device)\n",
    "        \n",
    "        with torch.no_grad():\n",
    "            Z = ae1.get_z(X)\n",
    "        \n",
    "        optimizer2.zero_grad()\n",
    "        \n",
    "        # Reconstructed Representation of X (forward)\n",
    "        Z_hat = ae2(Z)\n",
    "        \n",
    "        # Calculate Loss (MSE)\n",
    "        loss = criterion(Z_hat, Z)\n",
    "        \n",
    "        # Backpropagation\n",
    "        loss.backward()\n",
    "        \n",
    "        # Update Parameters\n",
    "        optimizer2.step()\n",
    "        \n",
    "        running_loss += loss.item()\n",
    "    \n",
    "    print('Epoch', epoch+1, ': Loss =', running_loss)\n",
    "    \n",
    "    if abs(running_loss-old_loss)/running_loss < 1e-3:\n",
    "        print('Converged')\n",
    "        break\n",
    "        \n",
    "    old_loss = running_loss\n",
    "\n",
    "print('Finished Training')"
   ]
  },
  {
   "cell_type": "code",
   "execution_count": 17,
   "metadata": {
    "colab": {
     "base_uri": "https://localhost:8080/",
     "height": 34
    },
    "colab_type": "code",
    "id": "6VHpK73lgdGV",
    "outputId": "16224ff9-b1e0-4238-8857-912cdd1c8bcb"
   },
   "outputs": [
    {
     "name": "stdout",
     "output_type": "stream",
     "text": [
      "0.00621598091145808\n"
     ]
    }
   ],
   "source": [
    "test_loss = 0.0\n",
    "\n",
    "for data in testloader:\n",
    "        \n",
    "    X, _ = data[0].to(device), data[1].to(device)\n",
    "    with torch.no_grad():\n",
    "      Z = ae1.get_z(X)\n",
    "      Z_pred = ae2(Z)\n",
    "      loss = criterion(Z_pred, Z)\n",
    "\n",
    "    test_loss += loss.item()*len(X)\n",
    "\n",
    "test_loss = test_loss/test_size\n",
    "print(test_loss)"
   ]
  },
  {
   "cell_type": "code",
   "execution_count": 18,
   "metadata": {
    "colab": {},
    "colab_type": "code",
    "id": "Ie7JQXLshlWK"
   },
   "outputs": [],
   "source": [
    "Z2_array = []\n",
    "\n",
    "for data in trainloader:\n",
    "        \n",
    "    X, _ = data[0].to(device), data[1].to(device)\n",
    "    with torch.no_grad():\n",
    "      Z1 = ae1.get_z(X)\n",
    "      Z2 = ae2.get_z(Z1)\n",
    "\n",
    "    if len(Z2_array) == 0:\n",
    "        Z2_array = Z2.cpu().numpy()\n",
    "    else:\n",
    "        Z2_array = np.append(Z2_array, Z2.cpu().numpy(), axis=0)"
   ]
  },
  {
   "cell_type": "code",
   "execution_count": 19,
   "metadata": {
    "colab": {
     "base_uri": "https://localhost:8080/",
     "height": 282
    },
    "colab_type": "code",
    "id": "ySCjdA11h5nq",
    "outputId": "d5db55f8-a856-408f-c6cf-4a59b92f3b3c"
   },
   "outputs": [
    {
     "name": "stdout",
     "output_type": "stream",
     "text": [
      "97% Variance Explained: 13\n"
     ]
    },
    {
     "data": {
      "image/png": "[encoded data removed]",
      "text/plain": [
       "<Figure size 432x288 with 1 Axes>"
      ]
     },
     "metadata": {
      "needs_background": "light",
      "tags": []
     },
     "output_type": "display_data"
    }
   ],
   "source": [
    "pca3 = PCA(n_components=Z2_array.shape[1])\n",
    "pca3.fit(Z2_array)\n",
    "print('97% Variance Explained:', np.where(np.cumsum(pca3.explained_variance_ratio_)>=0.97)[0][0]+1)\n",
    "\n",
    "explained_var = np.cumsum(pca3.explained_variance_ratio_)\n",
    "plt.plot(explained_var)\n",
    "plt.show()"
   ]
  },
  {
   "cell_type": "code",
   "execution_count": 20,
   "metadata": {
    "colab": {},
    "colab_type": "code",
    "id": "TVEyxUUBb9Dt"
   },
   "outputs": [],
   "source": [
    "ae3 = AutoEncoder(75, [50, 15, 50])\n",
    "optimizer3 = optim.SGD(ae3.parameters(), lr=0.001, momentum=0.9)\n",
    "ae3 = ae3.to(device)"
   ]
  },
  {
   "cell_type": "code",
   "execution_count": 21,
   "metadata": {
    "colab": {
     "base_uri": "https://localhost:8080/",
     "height": 374
    },
    "colab_type": "code",
    "id": "wV0pjnuNb9Dy",
    "outputId": "fa4c1756-772b-47cd-93f3-d9fb5355f3f7"
   },
   "outputs": [
    {
     "name": "stdout",
     "output_type": "stream",
     "text": [
      "Epoch 1 : Loss = 111.96574759483337\n",
      "Epoch 2 : Loss = 85.1330634355545\n",
      "Epoch 3 : Loss = 48.56603080034256\n",
      "Epoch 4 : Loss = 21.664261043071747\n",
      "Epoch 5 : Loss = 8.357718110084534\n",
      "Epoch 6 : Loss = 3.005869470536709\n",
      "Epoch 7 : Loss = 1.0532095851376653\n",
      "Epoch 8 : Loss = 0.3699721060693264\n",
      "Epoch 9 : Loss = 0.134912000852637\n",
      "Epoch 10 : Loss = 0.05404578783782199\n",
      "Epoch 11 : Loss = 0.026141726091736928\n",
      "Epoch 12 : Loss = 0.01650933368364349\n",
      "Epoch 13 : Loss = 0.013134264474501833\n",
      "Epoch 14 : Loss = 0.011967450132942759\n",
      "Epoch 15 : Loss = 0.011543079890543595\n",
      "Epoch 16 : Loss = 0.011400480172596872\n",
      "Epoch 17 : Loss = 0.011345938619342633\n",
      "Epoch 18 : Loss = 0.011326063198794145\n",
      "Epoch 19 : Loss = 0.01132225426408695\n",
      "Converged\n",
      "Finished Training\n"
     ]
    }
   ],
   "source": [
    "old_loss = np.inf\n",
    "\n",
    "max_epoch = 500\n",
    "\n",
    "for epoch in range(max_epoch):\n",
    "\n",
    "    running_loss = 0.0\n",
    "    \n",
    "    for data in trainloader:\n",
    "        \n",
    "        X, _ = data[0].to(device), data[1].to(device)\n",
    "        \n",
    "        with torch.no_grad():\n",
    "            Z1 = ae1.get_z(X)\n",
    "            Z = ae2.get_z(Z1)\n",
    "        \n",
    "        optimizer3.zero_grad()\n",
    "        \n",
    "        # Reconstructed Representation of Z (forward)\n",
    "        Z_hat = ae3(Z)\n",
    "        \n",
    "        # Calculate Loss (MSE)\n",
    "        loss = criterion(Z_hat, Z)\n",
    "        \n",
    "        # Backpropagation\n",
    "        loss.backward()\n",
    "        \n",
    "        # Update Parameters\n",
    "        optimizer3.step()\n",
    "        \n",
    "        running_loss += loss.item()\n",
    "    \n",
    "    print('Epoch', epoch+1, ': Loss =', running_loss)\n",
    "    \n",
    "    if abs(running_loss-old_loss)/running_loss < 1e-3:\n",
    "        print('Converged')\n",
    "        break\n",
    "        \n",
    "    old_loss = running_loss\n",
    "\n",
    "print('Finished Training')"
   ]
  },
  {
   "cell_type": "code",
   "execution_count": 22,
   "metadata": {
    "colab": {},
    "colab_type": "code",
    "id": "asYo4AYBb9EB"
   },
   "outputs": [],
   "source": [
    "class FinalNet(nn.Module):\n",
    "    \n",
    "    def __init__(self, input_size, hidden_sizes, num_classes):\n",
    "        super(FinalNet, self).__init__()\n",
    "        \n",
    "        self.fc1 = nn.Linear(input_size, hidden_sizes[0])\n",
    "        self.fc2 = nn.Linear(hidden_sizes[0], hidden_sizes[1])\n",
    "        self.fc3 = nn.Linear(hidden_sizes[1], hidden_sizes[2])\n",
    "        self.fc4 = nn.Linear(hidden_sizes[2], hidden_sizes[3])\n",
    "        self.out = nn.Linear(hidden_sizes[3], num_classes)\n",
    "    \n",
    "    def forward(self, x):\n",
    "        \n",
    "        x = torch.tanh(self.fc1(x))\n",
    "        x = torch.tanh(self.fc2(x))\n",
    "        x = torch.tanh(self.fc3(x))\n",
    "        x = torch.tanh(self.fc4(x))\n",
    "        x = self.out(x)\n",
    "        \n",
    "        return x\n",
    "    \n",
    "    def predict(self, X):\n",
    "        \n",
    "        with torch.no_grad():\n",
    "            y_score = self.forward(X)\n",
    "            y_pred = torch.argmax(y_score, axis=1)\n",
    "            \n",
    "        return y_pred\n",
    "            \n",
    "    \n",
    "classifier = FinalNet(828, [400, 150, 50, 15], 5)"
   ]
  },
  {
   "cell_type": "code",
   "execution_count": 23,
   "metadata": {
    "colab": {},
    "colab_type": "code",
    "id": "azVOLzPcb9EQ"
   },
   "outputs": [],
   "source": [
    "ae1_params = list(ae1.parameters())\n",
    "ae2_params = list(ae2.parameters())\n",
    "ae3_params = list(ae3.parameters())\n",
    "\n",
    "with torch.no_grad():\n",
    "    \n",
    "    classifier.fc1.weight.data = nn.Parameter(ae1_params[0])\n",
    "    classifier.fc1.bias.data = nn.Parameter(ae1_params[1])\n",
    "    \n",
    "    classifier.fc2.weight = nn.Parameter(torch.matmul(ae2_params[0], ae1_params[2]))\n",
    "    classifier.fc2.bias = nn.Parameter(torch.matmul(ae2_params[0], ae1_params[3]) + ae2_params[1])\n",
    "    \n",
    "    classifier.fc3.weight = nn.Parameter(torch.matmul(ae3_params[0], ae2_params[2]))\n",
    "    classifier.fc3.bias = nn.Parameter(torch.matmul(ae3_params[0], ae2_params[3]) + ae3_params[1])\n",
    "    \n",
    "    classifier.fc4.weight = nn.Parameter(ae3_params[2])\n",
    "    classifier.fc4.bias = nn.Parameter(ae3_params[3])"
   ]
  },
  {
   "cell_type": "code",
   "execution_count": 24,
   "metadata": {
    "colab": {},
    "colab_type": "code",
    "id": "htcYHkZvb9EX"
   },
   "outputs": [],
   "source": [
    "criterion = nn.CrossEntropyLoss()\n",
    "optimizer = optim.SGD(classifier.parameters(), lr=0.001, momentum=0.9)\n",
    "classifier = classifier.to(device)"
   ]
  },
  {
   "cell_type": "code",
   "execution_count": 25,
   "metadata": {
    "colab": {
     "base_uri": "https://localhost:8080/",
     "height": 374
    },
    "colab_type": "code",
    "id": "gGqhu8MUb9Ed",
    "outputId": "ac1807d0-6496-4b7e-8031-4dbd1a86834b"
   },
   "outputs": [
    {
     "ename": "RuntimeError",
     "evalue": "ignored",
     "output_type": "error",
     "traceback": [
      "\u001b[0;31m---------------------------------------------------------------------------\u001b[0m",
      "\u001b[0;31mRuntimeError\u001b[0m                              Traceback (most recent call last)",
      "\u001b[0;32m<ipython-input-25-452c602c90c3>\u001b[0m in \u001b[0;36m<module>\u001b[0;34m()\u001b[0m\n\u001b[1;32m     23\u001b[0m \u001b[0;34m\u001b[0m\u001b[0m\n\u001b[1;32m     24\u001b[0m         \u001b[0;31m# Update Parameters\u001b[0m\u001b[0;34m\u001b[0m\u001b[0;34m\u001b[0m\u001b[0;34m\u001b[0m\u001b[0m\n\u001b[0;32m---> 25\u001b[0;31m         \u001b[0moptimizer\u001b[0m\u001b[0;34m.\u001b[0m\u001b[0mstep\u001b[0m\u001b[0;34m(\u001b[0m\u001b[0;34m)\u001b[0m\u001b[0;34m\u001b[0m\u001b[0;34m\u001b[0m\u001b[0m\n\u001b[0m\u001b[1;32m     26\u001b[0m \u001b[0;34m\u001b[0m\u001b[0m\n\u001b[1;32m     27\u001b[0m         \u001b[0mrunning_loss\u001b[0m \u001b[0;34m+=\u001b[0m \u001b[0mloss\u001b[0m\u001b[0;34m.\u001b[0m\u001b[0mitem\u001b[0m\u001b[0;34m(\u001b[0m\u001b[0;34m)\u001b[0m\u001b[0;34m*\u001b[0m\u001b[0mlen\u001b[0m\u001b[0;34m(\u001b[0m\u001b[0mX\u001b[0m\u001b[0;34m)\u001b[0m\u001b[0;34m/\u001b[0m\u001b[0mtrain_size\u001b[0m\u001b[0;34m\u001b[0m\u001b[0;34m\u001b[0m\u001b[0m\n",
      "\u001b[0;32m/usr/local/lib/python3.6/dist-packages/torch/autograd/grad_mode.py\u001b[0m in \u001b[0;36mdecorate_context\u001b[0;34m(*args, **kwargs)\u001b[0m\n\u001b[1;32m     13\u001b[0m         \u001b[0;32mdef\u001b[0m \u001b[0mdecorate_context\u001b[0m\u001b[0;34m(\u001b[0m\u001b[0;34m*\u001b[0m\u001b[0margs\u001b[0m\u001b[0;34m,\u001b[0m \u001b[0;34m**\u001b[0m\u001b[0mkwargs\u001b[0m\u001b[0;34m)\u001b[0m\u001b[0;34m:\u001b[0m\u001b[0;34m\u001b[0m\u001b[0;34m\u001b[0m\u001b[0m\n\u001b[1;32m     14\u001b[0m             \u001b[0;32mwith\u001b[0m \u001b[0mself\u001b[0m\u001b[0;34m:\u001b[0m\u001b[0;34m\u001b[0m\u001b[0;34m\u001b[0m\u001b[0m\n\u001b[0;32m---> 15\u001b[0;31m                 \u001b[0;32mreturn\u001b[0m \u001b[0mfunc\u001b[0m\u001b[0;34m(\u001b[0m\u001b[0;34m*\u001b[0m\u001b[0margs\u001b[0m\u001b[0;34m,\u001b[0m \u001b[0;34m**\u001b[0m\u001b[0mkwargs\u001b[0m\u001b[0;34m)\u001b[0m\u001b[0;34m\u001b[0m\u001b[0;34m\u001b[0m\u001b[0m\n\u001b[0m\u001b[1;32m     16\u001b[0m         \u001b[0;32mreturn\u001b[0m \u001b[0mdecorate_context\u001b[0m\u001b[0;34m\u001b[0m\u001b[0;34m\u001b[0m\u001b[0m\n\u001b[1;32m     17\u001b[0m \u001b[0;34m\u001b[0m\u001b[0m\n",
      "\u001b[0;32m/usr/local/lib/python3.6/dist-packages/torch/optim/sgd.py\u001b[0m in \u001b[0;36mstep\u001b[0;34m(self, closure)\u001b[0m\n\u001b[1;32m    110\u001b[0m                         \u001b[0md_p\u001b[0m \u001b[0;34m=\u001b[0m \u001b[0mbuf\u001b[0m\u001b[0;34m\u001b[0m\u001b[0;34m\u001b[0m\u001b[0m\n\u001b[1;32m    111\u001b[0m \u001b[0;34m\u001b[0m\u001b[0m\n\u001b[0;32m--> 112\u001b[0;31m                 \u001b[0mp\u001b[0m\u001b[0;34m.\u001b[0m\u001b[0madd_\u001b[0m\u001b[0;34m(\u001b[0m\u001b[0md_p\u001b[0m\u001b[0;34m,\u001b[0m \u001b[0malpha\u001b[0m\u001b[0;34m=\u001b[0m\u001b[0;34m-\u001b[0m\u001b[0mgroup\u001b[0m\u001b[0;34m[\u001b[0m\u001b[0;34m'lr'\u001b[0m\u001b[0;34m]\u001b[0m\u001b[0;34m)\u001b[0m\u001b[0;34m\u001b[0m\u001b[0;34m\u001b[0m\u001b[0m\n\u001b[0m\u001b[1;32m    113\u001b[0m \u001b[0;34m\u001b[0m\u001b[0m\n\u001b[1;32m    114\u001b[0m         \u001b[0;32mreturn\u001b[0m \u001b[0mloss\u001b[0m\u001b[0;34m\u001b[0m\u001b[0;34m\u001b[0m\u001b[0m\n",
      "\u001b[0;31mRuntimeError\u001b[0m: CUDA error: device-side assert triggered"
     ]
    }
   ],
   "source": [
    "old_loss = np.inf\n",
    "\n",
    "max_epoch = 100\n",
    "\n",
    "for epoch in range(max_epoch):\n",
    "\n",
    "    running_loss = 0.0\n",
    "    \n",
    "    for data in trainloader:\n",
    "        \n",
    "        X, y = data[0].to(device), data[1].to(device)\n",
    "        \n",
    "        optimizer.zero_grad()\n",
    "        \n",
    "        # Forward\n",
    "        y_hat = classifier(X)\n",
    "        \n",
    "        # Calculate Loss (Cross Entropy)\n",
    "        loss = criterion(y_hat, y)\n",
    "        \n",
    "        # Backpropagation\n",
    "        loss.backward()\n",
    "        \n",
    "        # Update Parameters\n",
    "        optimizer.step()\n",
    "        \n",
    "        running_loss += loss.item()*len(X)/train_size\n",
    "    \n",
    "    print('Epoch', epoch+1, ': Loss =', running_loss)\n",
    "    \n",
    "    if abs(running_loss-old_loss)/running_loss < 1e-3:\n",
    "        print('Converged')\n",
    "        break\n",
    "    \n",
    "    old_loss = running_loss\n",
    "\n",
    "print('Finished Training')"
   ]
  },
  {
   "cell_type": "code",
   "execution_count": null,
   "metadata": {
    "colab": {},
    "colab_type": "code",
    "id": "yVYcIfixb9Eg",
    "outputId": "ce1ac28f-dd62-4d23-cf23-403f3331e59a"
   },
   "outputs": [
    {
     "name": "stdout",
     "output_type": "stream",
     "text": [
      "Test Loss = 864.0877075195312\n"
     ]
    },
    {
     "data": {
      "text/html": [
       "<div>\n",
       "<style scoped>\n",
       "    .dataframe tbody tr th:only-of-type {\n",
       "        vertical-align: middle;\n",
       "    }\n",
       "\n",
       "    .dataframe tbody tr th {\n",
       "        vertical-align: top;\n",
       "    }\n",
       "\n",
       "    .dataframe thead th {\n",
       "        text-align: right;\n",
       "    }\n",
       "</style>\n",
       "<table border=\"1\" class=\"dataframe\">\n",
       "  <thead>\n",
       "    <tr style=\"text-align: right;\">\n",
       "      <th></th>\n",
       "      <th>0</th>\n",
       "      <th>1</th>\n",
       "      <th>2</th>\n",
       "      <th>3</th>\n",
       "      <th>4</th>\n",
       "      <th>5</th>\n",
       "      <th>6</th>\n",
       "      <th>7</th>\n",
       "      <th>8</th>\n",
       "      <th>9</th>\n",
       "    </tr>\n",
       "  </thead>\n",
       "  <tbody>\n",
       "    <tr>\n",
       "      <th>0</th>\n",
       "      <td>0</td>\n",
       "      <td>0</td>\n",
       "      <td>1215</td>\n",
       "      <td>0</td>\n",
       "      <td>0</td>\n",
       "      <td>0</td>\n",
       "      <td>0</td>\n",
       "      <td>0</td>\n",
       "      <td>0</td>\n",
       "      <td>0</td>\n",
       "    </tr>\n",
       "    <tr>\n",
       "      <th>1</th>\n",
       "      <td>0</td>\n",
       "      <td>0</td>\n",
       "      <td>1234</td>\n",
       "      <td>0</td>\n",
       "      <td>0</td>\n",
       "      <td>0</td>\n",
       "      <td>0</td>\n",
       "      <td>0</td>\n",
       "      <td>0</td>\n",
       "      <td>0</td>\n",
       "    </tr>\n",
       "    <tr>\n",
       "      <th>2</th>\n",
       "      <td>0</td>\n",
       "      <td>0</td>\n",
       "      <td>1191</td>\n",
       "      <td>0</td>\n",
       "      <td>0</td>\n",
       "      <td>0</td>\n",
       "      <td>0</td>\n",
       "      <td>0</td>\n",
       "      <td>0</td>\n",
       "      <td>0</td>\n",
       "    </tr>\n",
       "    <tr>\n",
       "      <th>3</th>\n",
       "      <td>0</td>\n",
       "      <td>0</td>\n",
       "      <td>1251</td>\n",
       "      <td>0</td>\n",
       "      <td>0</td>\n",
       "      <td>0</td>\n",
       "      <td>0</td>\n",
       "      <td>0</td>\n",
       "      <td>0</td>\n",
       "      <td>0</td>\n",
       "    </tr>\n",
       "    <tr>\n",
       "      <th>4</th>\n",
       "      <td>0</td>\n",
       "      <td>0</td>\n",
       "      <td>1179</td>\n",
       "      <td>0</td>\n",
       "      <td>0</td>\n",
       "      <td>0</td>\n",
       "      <td>0</td>\n",
       "      <td>0</td>\n",
       "      <td>0</td>\n",
       "      <td>0</td>\n",
       "    </tr>\n",
       "    <tr>\n",
       "      <th>5</th>\n",
       "      <td>0</td>\n",
       "      <td>0</td>\n",
       "      <td>1138</td>\n",
       "      <td>0</td>\n",
       "      <td>0</td>\n",
       "      <td>0</td>\n",
       "      <td>0</td>\n",
       "      <td>0</td>\n",
       "      <td>0</td>\n",
       "      <td>0</td>\n",
       "    </tr>\n",
       "    <tr>\n",
       "      <th>6</th>\n",
       "      <td>0</td>\n",
       "      <td>0</td>\n",
       "      <td>1172</td>\n",
       "      <td>0</td>\n",
       "      <td>0</td>\n",
       "      <td>0</td>\n",
       "      <td>0</td>\n",
       "      <td>0</td>\n",
       "      <td>0</td>\n",
       "      <td>0</td>\n",
       "    </tr>\n",
       "    <tr>\n",
       "      <th>7</th>\n",
       "      <td>0</td>\n",
       "      <td>0</td>\n",
       "      <td>1228</td>\n",
       "      <td>0</td>\n",
       "      <td>0</td>\n",
       "      <td>0</td>\n",
       "      <td>0</td>\n",
       "      <td>0</td>\n",
       "      <td>0</td>\n",
       "      <td>0</td>\n",
       "    </tr>\n",
       "    <tr>\n",
       "      <th>8</th>\n",
       "      <td>0</td>\n",
       "      <td>0</td>\n",
       "      <td>1196</td>\n",
       "      <td>0</td>\n",
       "      <td>0</td>\n",
       "      <td>0</td>\n",
       "      <td>0</td>\n",
       "      <td>0</td>\n",
       "      <td>0</td>\n",
       "      <td>0</td>\n",
       "    </tr>\n",
       "    <tr>\n",
       "      <th>9</th>\n",
       "      <td>0</td>\n",
       "      <td>0</td>\n",
       "      <td>1196</td>\n",
       "      <td>0</td>\n",
       "      <td>0</td>\n",
       "      <td>0</td>\n",
       "      <td>0</td>\n",
       "      <td>0</td>\n",
       "      <td>0</td>\n",
       "      <td>0</td>\n",
       "    </tr>\n",
       "  </tbody>\n",
       "</table>\n",
       "</div>"
      ],
      "text/plain": [
       "   0  1     2  3  4  5  6  7  8  9\n",
       "0  0  0  1215  0  0  0  0  0  0  0\n",
       "1  0  0  1234  0  0  0  0  0  0  0\n",
       "2  0  0  1191  0  0  0  0  0  0  0\n",
       "3  0  0  1251  0  0  0  0  0  0  0\n",
       "4  0  0  1179  0  0  0  0  0  0  0\n",
       "5  0  0  1138  0  0  0  0  0  0  0\n",
       "6  0  0  1172  0  0  0  0  0  0  0\n",
       "7  0  0  1228  0  0  0  0  0  0  0\n",
       "8  0  0  1196  0  0  0  0  0  0  0\n",
       "9  0  0  1196  0  0  0  0  0  0  0"
      ]
     },
     "execution_count": 114,
     "metadata": {
      "tags": []
     },
     "output_type": "execute_result"
    }
   ],
   "source": [
    "with torch.no_grad():\n",
    "    \n",
    "    test_loss = 0.0\n",
    "    y_test = []\n",
    "    y_test_pred = []\n",
    "\n",
    "    for data in testloader:\n",
    "\n",
    "        X, y = data[0].to(device), data[1].to(device)\n",
    "        y_hat = classifier(X)      \n",
    "        test_loss += criterion(y_hat, y)\n",
    "        \n",
    "        y_test.extend(list(y.detach().numpy()))\n",
    "        y_test_pred.extend(list(torch.argmax(y_hat, axis=1).detach().numpy()))\n",
    "\n",
    "print('Test Loss =', test_loss.item())\n",
    "pd.DataFrame(confusion_matrix(y_test, y_test_pred))"
   ]
  }
 ],
 "metadata": {
  "accelerator": "GPU",
  "colab": {
   "collapsed_sections": [],
   "name": "Part 2.ipynb",
   "provenance": []
  },
  "kernelspec": {
   "display_name": "Python 3",
   "language": "python",
   "name": "python3"
  },
  "language_info": {
   "codemirror_mode": {
    "name": "ipython",
    "version": 3
   },
   "file_extension": ".py",
   "mimetype": "text/x-python",
   "name": "python",
   "nbconvert_exporter": "python",
   "pygments_lexer": "ipython3",
   "version": "3.7.4"
  }
 },
 "nbformat": 4,
 "nbformat_minor": 1
}
