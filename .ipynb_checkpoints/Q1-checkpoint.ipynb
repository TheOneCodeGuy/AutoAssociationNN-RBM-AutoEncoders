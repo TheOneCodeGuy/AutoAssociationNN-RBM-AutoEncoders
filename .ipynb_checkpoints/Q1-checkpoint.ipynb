{
 "cells": [
  {
   "cell_type": "markdown",
   "metadata": {
    "colab_type": "text",
    "id": "MOfsnCp5x_Qv"
   },
   "source": [
    "##  CS6910: Fundamentals of Deep Learning\n",
    "#### Assignment 3 - Team 3\n",
    "\n",
    "S Renganathan, CH16B058\t     \n",
    "S Nithya, CH16B113\t\t         \n",
    "Vasistha Singhal, CH16B119"
   ]
  },
  {
   "cell_type": "code",
   "execution_count": 1,
   "metadata": {
    "colab": {
     "base_uri": "https://localhost:8080/",
     "height": 34
    },
    "colab_type": "code",
    "id": "BWS-AEODiATe",
    "outputId": "3cf9c455-25cc-4dbe-80db-891ebe093e59"
   },
   "outputs": [
    {
     "name": "stdout",
     "output_type": "stream",
     "text": [
      "Drive already mounted at /content/drive; to attempt to forcibly remount, call drive.mount(\"/content/drive\", force_remount=True).\n"
     ]
    }
   ],
   "source": [
    "import torch\n",
    "import torchvision\n",
    "import torchvision.transforms as transforms\n",
    "import tarfile\n",
    "import pandas as pd\n",
    "import os\n",
    "import re\n",
    "from torch.utils.data import Dataset, DataLoader, ConcatDataset, random_split\n",
    "import torch.nn as nn\n",
    "import torch.nn.functional as F\n",
    "import numpy as np\n",
    "import matplotlib.pyplot as plt\n",
    "import torch.optim as optim\n",
    "from sklearn.metrics import confusion_matrix\n",
    "from io import StringIO\n",
    "from sklearn.decomposition import PCA\n",
    "\n",
    "from google.colab import drive\n",
    "drive.mount('/content/drive')"
   ]
  },
  {
   "cell_type": "code",
   "execution_count": 2,
   "metadata": {
    "colab": {},
    "colab_type": "code",
    "id": "njt7AfSTiATp"
   },
   "outputs": [],
   "source": [
    "class DatasetClass(Dataset):\n",
    "    \n",
    "    def __init__(self, folder, filename, label_dict):\n",
    "        \n",
    "        self.data = []\n",
    "        self.filename = filename\n",
    "        tar = tarfile.open(folder + '/' + filename)\n",
    "        for file in tar.getmembers():\n",
    "            f = tar.extractfile(file)\n",
    "            if f != None:\n",
    "                content = pd.read_csv(StringIO(f.read().decode()), sep=' ', header=None).values.ravel()\n",
    "                self.data.append(content)\n",
    "            \n",
    "        self.y = torch.tensor(label_dict[self.filename[:-7]], dtype=torch.long)\n",
    "    \n",
    "    def __getitem__(self, idx):     \n",
    "        \n",
    "        return torch.tensor(self.data[idx], dtype=torch.float), self.y\n",
    "      \n",
    "    def __len__(self):\n",
    "        \n",
    "        return len(self.data)"
   ]
  },
  {
   "cell_type": "code",
   "execution_count": 3,
   "metadata": {
    "colab": {},
    "colab_type": "code",
    "id": "JWUBsi9EiATu"
   },
   "outputs": [],
   "source": [
    "def train_test_loader(directory, label_dict, train_fraction=0.8, num_workers=2, batch_size=32):\n",
    "\n",
    "    all_files = list(filter(lambda x: x.endswith('.tar.gz'), os.listdir(directory)))\n",
    "    files = [file for file in all_files if file[:-7] in label_dict.keys()]\n",
    "    \n",
    "    datasets = list(map(lambda x : DatasetClass(directory, x, label_dict), files))\n",
    "    dataset = ConcatDataset(datasets)\n",
    "    N = dataset.cumulative_sizes[-1]\n",
    "    \n",
    "    train_size = int(N*train_fraction)\n",
    "    test_size = N - train_size\n",
    "\n",
    "    train_data, test_data = torch.utils.data.random_split(dataset, [train_size, test_size])\n",
    "\n",
    "    trainloader = DataLoader(train_data, batch_size=batch_size, shuffle=True, num_workers=num_workers)\n",
    "    testloader = DataLoader(test_data, batch_size=batch_size, shuffle=True, num_workers=num_workers)\n",
    "    \n",
    "    return trainloader, testloader, train_size, test_size"
   ]
  },
  {
   "cell_type": "code",
   "execution_count": 4,
   "metadata": {
    "colab": {},
    "colab_type": "code",
    "id": "n9FTc7eJiATx"
   },
   "outputs": [],
   "source": [
    "label_dict = {'tallbuilding': 0, 'opencountry':1, 'mountain': 2, 'highway': 3, 'coast': 4}\n",
    "# trainloader, testloader = train_test_loader('Data_Set_1(Colored_Images)', label_dict, train_fraction=0.8, num_workers=0)\n",
    "trainloader, testloader, train_size, test_size = train_test_loader('/content/drive/My Drive/Data_Set_1(Colored_Images)', label_dict, train_fraction=0.8, num_workers=0)"
   ]
  },
  {
   "cell_type": "code",
   "execution_count": 5,
   "metadata": {
    "colab": {},
    "colab_type": "code",
    "id": "HwjmJE-siAT4"
   },
   "outputs": [],
   "source": [
    "class AutoEncoder(nn.Module):\n",
    "    \n",
    "    def __init__(self, n_features, h_layer_sizes):\n",
    "        super(AutoEncoder, self).__init__()\n",
    "        \n",
    "        self.fc1 = nn.Linear(n_features, h_layer_sizes[0])\n",
    "        self.fc2 = nn.Linear(h_layer_sizes[0], h_layer_sizes[1])\n",
    "        self.fc3 = nn.Linear(h_layer_sizes[1], h_layer_sizes[2])\n",
    "        self.out = nn.Linear(h_layer_sizes[2], n_features)\n",
    "        \n",
    "    def forward(self, x):\n",
    "        \n",
    "        x = torch.tanh(self.fc1(x)) # Hidden Layer 1 (Tanh)\n",
    "        x = self.fc2(x)    # Hidden Layer 2 (Linear)\n",
    "        x = torch.tanh(self.fc3(x)) # Hidden Layer 3 (Tanh)\n",
    "        x = self.out(x) # Output Layer (Linear)\n",
    "        \n",
    "        return x\n",
    "    \n",
    "    def get_z(self, x):\n",
    "        \n",
    "        z = torch.tanh(self.fc1(x))\n",
    "        z = self.fc2(z)\n",
    "        \n",
    "        return z"
   ]
  },
  {
   "cell_type": "code",
   "execution_count": 6,
   "metadata": {
    "colab": {
     "base_uri": "https://localhost:8080/",
     "height": 34
    },
    "colab_type": "code",
    "id": "bS8b-mcViAT9",
    "outputId": "134db621-b450-45a7-88fc-4a43f523d10e"
   },
   "outputs": [
    {
     "name": "stdout",
     "output_type": "stream",
     "text": [
      "cpu\n"
     ]
    }
   ],
   "source": [
    "criterion = nn.MSELoss()\n",
    "device = torch.device(\"cuda:0\" if torch.cuda.is_available() else \"cpu\")\n",
    "print(device)"
   ]
  },
  {
   "cell_type": "code",
   "execution_count": 7,
   "metadata": {
    "colab": {},
    "colab_type": "code",
    "id": "rr4qrfn9iAUE"
   },
   "outputs": [],
   "source": [
    "ae1 = AutoEncoder(828, [500, 350, 500])\n",
    "ae1 = ae1.to(device)\n",
    "optimizer1 = optim.SGD(ae1.parameters(), lr=0.0001, momentum=0.9)"
   ]
  },
  {
   "cell_type": "code",
   "execution_count": null,
   "metadata": {
    "colab": {
     "base_uri": "https://localhost:8080/",
     "height": 1000
    },
    "colab_type": "code",
    "id": "O1O6lPmZiAUH",
    "outputId": "fc813aff-adc7-44dd-cea9-ed090c746679"
   },
   "outputs": [],
   "source": [
    "old_loss = np.inf\n",
    "losses = []\n",
    "max_epoch = 500\n",
    "\n",
    "for epoch in range(max_epoch):\n",
    "\n",
    "    running_loss = 0.0\n",
    "    \n",
    "    for data in trainloader:\n",
    "        \n",
    "        X, _ = data[0].to(device), data[1].to(device)\n",
    "        \n",
    "        optimizer1.zero_grad()\n",
    "        \n",
    "        # Reconstructed Representation of X (forward)\n",
    "        X_hat = ae1(X)\n",
    "        \n",
    "        # Calculate Loss (MSE)\n",
    "        loss = criterion(X_hat, X)\n",
    "        \n",
    "        # Backpropagation\n",
    "        loss.backward()\n",
    "        \n",
    "        # Update Parameters\n",
    "        optimizer1.step()\n",
    "        \n",
    "        running_loss += loss.item()*len(X)/train_size\n",
    "    \n",
    "    print('Epoch', epoch+1, ': Loss =', running_loss)\n",
    "    losses.append(running_loss)\n",
    "    print(abs(running_loss-old_loss)/running_loss)\n",
    "    \n",
    "    if abs(running_loss-old_loss)/running_loss < 1e-4:\n",
    "        print('Converged')\n",
    "        break\n",
    "    \n",
    "    old_loss = running_loss\n",
    "\n",
    "print('Finished Training')"
   ]
  },
  {
   "cell_type": "code",
   "execution_count": 9,
   "metadata": {
    "colab": {
     "base_uri": "https://localhost:8080/",
     "height": 295
    },
    "colab_type": "code",
    "id": "s_MgLSBL3Qfe",
    "outputId": "7c2b2e52-63e8-447d-e1cf-85409dae68b7"
   },
   "outputs": [
    {
     "data": {
      "image/png": "[encoded data removed]",
      "text/plain": [
       "<Figure size 432x288 with 1 Axes>"
      ]
     },
     "metadata": {
      "needs_background": "light",
      "tags": []
     },
     "output_type": "display_data"
    }
   ],
   "source": [
    "plt.plot(losses)\n",
    "plt.ylabel('Loss')\n",
    "plt.xlabel('Iter Number')\n",
    "plt.title('Convergence monitor plot')\n",
    "plt.show()"
   ]
  },
  {
   "cell_type": "code",
   "execution_count": 26,
   "metadata": {
    "colab": {},
    "colab_type": "code",
    "id": "G1w7UZJRiAUL"
   },
   "outputs": [],
   "source": [
    "class FinalNet(nn.Module):\n",
    "    \n",
    "    def __init__(self, input_size, hidden_sizes, num_classes):\n",
    "        super(FinalNet, self).__init__()\n",
    "        \n",
    "        self.fc1 = nn.Linear(input_size, hidden_sizes[0])\n",
    "        self.fc2 = nn.Linear(hidden_sizes[0], hidden_sizes[1])\n",
    "        # self.fc3 = nn.Linear(hidden_sizes[1], hidden_sizes[2])\n",
    "        #self.fc4 = nn.Linear(hidden_sizes[2], hidden_sizes[3])\n",
    "        self.out = nn.Linear(hidden_sizes[1], num_classes)\n",
    "    \n",
    "    def forward(self, x):\n",
    "        \n",
    "        x = torch.tanh(self.fc1(x))\n",
    "        x = torch.tanh(self.fc2(x))\n",
    "        # x = torch.tanh(self.fc3(x))\n",
    "        #x = torch.tanh(self.fc4(x))\n",
    "        x = self.out(x)\n",
    "        \n",
    "        return x\n",
    "    \n",
    "    def predict(self, X):\n",
    "        \n",
    "        with torch.no_grad():\n",
    "            y_score = self.forward(X)\n",
    "            y_pred = torch.argmax(y_score, axis=1)\n",
    "            \n",
    "        return y_pred\n",
    "            \n",
    "    \n",
    "classifier = FinalNet(350, [200, 50], 5)"
   ]
  },
  {
   "cell_type": "code",
   "execution_count": 27,
   "metadata": {
    "colab": {},
    "colab_type": "code",
    "id": "_VqwlpwniAUP"
   },
   "outputs": [],
   "source": [
    "criterion = nn.CrossEntropyLoss()\n",
    "optimizer = optim.SGD(classifier.parameters(), lr=0.00001, momentum=0.9)\n",
    "classifier = classifier.to(device)"
   ]
  },
  {
   "cell_type": "code",
   "execution_count": null,
   "metadata": {
    "colab": {
     "base_uri": "https://localhost:8080/",
     "height": 1000
    },
    "colab_type": "code",
    "id": "FYJn45PGiAUS",
    "outputId": "d9da0987-2c10-4669-fb14-b4d54300fbb1"
   },
   "outputs": [],
   "source": [
    "old_loss = np.inf\n",
    "\n",
    "max_epoch = 20000\n",
    "losses= []\n",
    "for epoch in range(max_epoch):\n",
    "\n",
    "    running_loss = 0.0\n",
    "    \n",
    "    for data in trainloader:\n",
    "        \n",
    "        X, y = data[0].to(device), data[1].to(device)\n",
    "        \n",
    "        # extracting encoder features from AE1 to use as input to the MLFFNN\n",
    "        with torch.no_grad():\n",
    "            Z = ae1.get_z(X)\n",
    "        \n",
    "        optimizer.zero_grad()\n",
    "        \n",
    "        # Forward\n",
    "        y_hat = classifier(Z)\n",
    "        \n",
    "        # Calculate Loss (Cross Entropy)\n",
    "        loss = criterion(y_hat, y)\n",
    "        \n",
    "        # Backpropagation\n",
    "        loss.backward()\n",
    "        \n",
    "        # Update Parameters\n",
    "        optimizer.step()\n",
    "        \n",
    "        running_loss += loss.item()*len(X)/train_size\n",
    "    \n",
    "    print('Epoch', epoch+1, ': Loss =', running_loss)\n",
    "    print(abs(running_loss-old_loss)/running_loss)\n",
    "    losses.append(running_loss)\n",
    "\n",
    "    if abs(running_loss-old_loss)/running_loss < 1e-4 and running_loss<1.05:\n",
    "        print('Converged')\n",
    "        break\n",
    "    \n",
    "    old_loss = running_loss\n",
    "\n",
    "print('Finished Training')"
   ]
  },
  {
   "cell_type": "code",
   "execution_count": 41,
   "metadata": {
    "colab": {
     "base_uri": "https://localhost:8080/",
     "height": 295
    },
    "colab_type": "code",
    "id": "28vxvQv_3y9E",
    "outputId": "e4a3cc81-8ef0-4f4a-e8ba-56b6cbe4e8d3"
   },
   "outputs": [
    {
     "data": {
      "image/png": "[encoded data removed]",
      "text/plain": [
       "<Figure size 432x288 with 1 Axes>"
      ]
     },
     "metadata": {
      "needs_background": "light",
      "tags": []
     },
     "output_type": "display_data"
    }
   ],
   "source": [
    "plt.plot(losses)\n",
    "plt.ylabel('Loss')\n",
    "plt.xlabel('Iter Number')\n",
    "plt.title('Convergence monitor plot')\n",
    "plt.show()"
   ]
  },
  {
   "cell_type": "code",
   "execution_count": 42,
   "metadata": {
    "colab": {
     "base_uri": "https://localhost:8080/",
     "height": 221
    },
    "colab_type": "code",
    "id": "Uebx8Dm6iAUX",
    "outputId": "0934b90b-4da2-457c-b745-0082c3b75e92"
   },
   "outputs": [
    {
     "name": "stdout",
     "output_type": "stream",
     "text": [
      "Train Loss = 1.0441327095031738\n"
     ]
    },
    {
     "data": {
      "text/html": [
       "<div>\n",
       "<style scoped>\n",
       "    .dataframe tbody tr th:only-of-type {\n",
       "        vertical-align: middle;\n",
       "    }\n",
       "\n",
       "    .dataframe tbody tr th {\n",
       "        vertical-align: top;\n",
       "    }\n",
       "\n",
       "    .dataframe thead th {\n",
       "        text-align: right;\n",
       "    }\n",
       "</style>\n",
       "<table border=\"1\" class=\"dataframe\">\n",
       "  <thead>\n",
       "    <tr style=\"text-align: right;\">\n",
       "      <th></th>\n",
       "      <th>0</th>\n",
       "      <th>1</th>\n",
       "      <th>2</th>\n",
       "      <th>3</th>\n",
       "      <th>4</th>\n",
       "    </tr>\n",
       "  </thead>\n",
       "  <tbody>\n",
       "    <tr>\n",
       "      <th>0</th>\n",
       "      <td>177</td>\n",
       "      <td>21</td>\n",
       "      <td>69</td>\n",
       "      <td>8</td>\n",
       "      <td>18</td>\n",
       "    </tr>\n",
       "    <tr>\n",
       "      <th>1</th>\n",
       "      <td>7</td>\n",
       "      <td>232</td>\n",
       "      <td>30</td>\n",
       "      <td>1</td>\n",
       "      <td>52</td>\n",
       "    </tr>\n",
       "    <tr>\n",
       "      <th>2</th>\n",
       "      <td>64</td>\n",
       "      <td>54</td>\n",
       "      <td>140</td>\n",
       "      <td>12</td>\n",
       "      <td>29</td>\n",
       "    </tr>\n",
       "    <tr>\n",
       "      <th>3</th>\n",
       "      <td>26</td>\n",
       "      <td>1</td>\n",
       "      <td>5</td>\n",
       "      <td>120</td>\n",
       "      <td>42</td>\n",
       "    </tr>\n",
       "    <tr>\n",
       "      <th>4</th>\n",
       "      <td>17</td>\n",
       "      <td>95</td>\n",
       "      <td>27</td>\n",
       "      <td>27</td>\n",
       "      <td>134</td>\n",
       "    </tr>\n",
       "  </tbody>\n",
       "</table>\n",
       "</div>"
      ],
      "text/plain": [
       "     0    1    2    3    4\n",
       "0  177   21   69    8   18\n",
       "1    7  232   30    1   52\n",
       "2   64   54  140   12   29\n",
       "3   26    1    5  120   42\n",
       "4   17   95   27   27  134"
      ]
     },
     "execution_count": 42,
     "metadata": {
      "tags": []
     },
     "output_type": "execute_result"
    }
   ],
   "source": [
    "with torch.no_grad():\n",
    "    \n",
    "    train_loss = 0.0\n",
    "    y_train = []\n",
    "    y_train_pred = []\n",
    "\n",
    "    for data in trainloader:\n",
    "\n",
    "        X, y = data[0].to(device), data[1].to(device)\n",
    "        Z = ae1.get_z(X)\n",
    "        y_hat = classifier(Z)      \n",
    "        train_loss += criterion(y_hat, y)*len(X)/train_size\n",
    "        \n",
    "        y_train.extend(list(y.cpu().detach().numpy()))\n",
    "        y_train_pred.extend(list(torch.argmax(y_hat, axis=1).cpu().detach().numpy()))\n",
    "\n",
    "print('Train Loss =', train_loss.item())\n",
    "pd.DataFrame(confusion_matrix(y_train, y_train_pred))"
   ]
  },
  {
   "cell_type": "code",
   "execution_count": 43,
   "metadata": {
    "colab": {
     "base_uri": "https://localhost:8080/",
     "height": 34
    },
    "colab_type": "code",
    "id": "ItZO18ZIjAyQ",
    "outputId": "acb68a3d-4ec4-44b6-b82a-319e6635338e"
   },
   "outputs": [
    {
     "name": "stdout",
     "output_type": "stream",
     "text": [
      "Train Accuracy = 0.5703125 Train Precision = 0.5804186824849019 Train F1 = 0.5732925671346372\n"
     ]
    }
   ],
   "source": [
    "from sklearn.metrics import accuracy_score, f1_score, precision_score\n",
    "acc = accuracy_score(y_train, y_train_pred)\n",
    "prec = precision_score(y_train, y_train_pred, average='macro')\n",
    "f1 = f1_score(y_train, y_train_pred, average='macro')\n",
    "\n",
    "print('Train Accuracy =', acc, 'Train Precision =', prec, 'Train F1 =', f1)"
   ]
  },
  {
   "cell_type": "code",
   "execution_count": 44,
   "metadata": {
    "colab": {
     "base_uri": "https://localhost:8080/",
     "height": 221
    },
    "colab_type": "code",
    "id": "q2F2G4QbiAUa",
    "outputId": "660ae217-2b7c-4161-ea51-8bc6c9304550"
   },
   "outputs": [
    {
     "name": "stdout",
     "output_type": "stream",
     "text": [
      "Test Loss = 12.67029857635498\n"
     ]
    },
    {
     "data": {
      "text/html": [
       "<div>\n",
       "<style scoped>\n",
       "    .dataframe tbody tr th:only-of-type {\n",
       "        vertical-align: middle;\n",
       "    }\n",
       "\n",
       "    .dataframe tbody tr th {\n",
       "        vertical-align: top;\n",
       "    }\n",
       "\n",
       "    .dataframe thead th {\n",
       "        text-align: right;\n",
       "    }\n",
       "</style>\n",
       "<table border=\"1\" class=\"dataframe\">\n",
       "  <thead>\n",
       "    <tr style=\"text-align: right;\">\n",
       "      <th></th>\n",
       "      <th>0</th>\n",
       "      <th>1</th>\n",
       "      <th>2</th>\n",
       "      <th>3</th>\n",
       "      <th>4</th>\n",
       "    </tr>\n",
       "  </thead>\n",
       "  <tbody>\n",
       "    <tr>\n",
       "      <th>0</th>\n",
       "      <td>32</td>\n",
       "      <td>9</td>\n",
       "      <td>13</td>\n",
       "      <td>2</td>\n",
       "      <td>7</td>\n",
       "    </tr>\n",
       "    <tr>\n",
       "      <th>1</th>\n",
       "      <td>1</td>\n",
       "      <td>65</td>\n",
       "      <td>10</td>\n",
       "      <td>0</td>\n",
       "      <td>12</td>\n",
       "    </tr>\n",
       "    <tr>\n",
       "      <th>2</th>\n",
       "      <td>12</td>\n",
       "      <td>22</td>\n",
       "      <td>29</td>\n",
       "      <td>2</td>\n",
       "      <td>10</td>\n",
       "    </tr>\n",
       "    <tr>\n",
       "      <th>3</th>\n",
       "      <td>7</td>\n",
       "      <td>5</td>\n",
       "      <td>6</td>\n",
       "      <td>29</td>\n",
       "      <td>19</td>\n",
       "    </tr>\n",
       "    <tr>\n",
       "      <th>4</th>\n",
       "      <td>2</td>\n",
       "      <td>29</td>\n",
       "      <td>4</td>\n",
       "      <td>6</td>\n",
       "      <td>19</td>\n",
       "    </tr>\n",
       "  </tbody>\n",
       "</table>\n",
       "</div>"
      ],
      "text/plain": [
       "    0   1   2   3   4\n",
       "0  32   9  13   2   7\n",
       "1   1  65  10   0  12\n",
       "2  12  22  29   2  10\n",
       "3   7   5   6  29  19\n",
       "4   2  29   4   6  19"
      ]
     },
     "execution_count": 44,
     "metadata": {
      "tags": []
     },
     "output_type": "execute_result"
    }
   ],
   "source": [
    "with torch.no_grad():\n",
    "    \n",
    "    test_loss = 0.0\n",
    "    y_test = []\n",
    "    y_test_pred = []\n",
    "\n",
    "    for data in testloader:\n",
    "\n",
    "        X, y = data[0].to(device), data[1].to(device)\n",
    "        Z = ae1.get_z(X)\n",
    "        y_hat = classifier(Z)      \n",
    "        test_loss += criterion(y_hat, y)\n",
    "        \n",
    "        y_test.extend(list(y.cpu().detach().numpy()))\n",
    "        y_test_pred.extend(list(torch.argmax(y_hat, axis=1).cpu().detach().numpy()))\n",
    "\n",
    "print('Test Loss =', test_loss.item())\n",
    "pd.DataFrame(confusion_matrix(y_test, y_test_pred))"
   ]
  },
  {
   "cell_type": "code",
   "execution_count": 45,
   "metadata": {
    "colab": {
     "base_uri": "https://localhost:8080/",
     "height": 34
    },
    "colab_type": "code",
    "id": "tjCtqyVJiAUf",
    "outputId": "6511152c-fc46-4952-ef48-78cd79349f81"
   },
   "outputs": [
    {
     "name": "stdout",
     "output_type": "stream",
     "text": [
      "Test Accuracy = 0.4943181818181818 Test Precision = 0.5175012722436892 Test F1 = 0.4836580074555261\n"
     ]
    }
   ],
   "source": [
    "from sklearn.metrics import accuracy_score, f1_score, precision_score\n",
    "acc = accuracy_score(y_test, y_test_pred)\n",
    "prec = precision_score(y_test, y_test_pred, average='macro')\n",
    "f1 = f1_score(y_test, y_test_pred, average='macro')\n",
    "\n",
    "print('Test Accuracy =', acc, 'Test Precision =', prec, 'Test F1 =', f1)"
   ]
  },
  {
   "cell_type": "code",
   "execution_count": null,
   "metadata": {
    "colab": {},
    "colab_type": "code",
    "id": "iecwF67CiAUj"
   },
   "outputs": [],
   "source": [
    "torch.save(classifier.state_dict(), 'a2_q1_wts.pt')"
   ]
  },
  {
   "cell_type": "markdown",
   "metadata": {
    "colab_type": "text",
    "id": "1Ms1L078iAUm"
   },
   "source": [
    "# PCA"
   ]
  },
  {
   "cell_type": "code",
   "execution_count": 46,
   "metadata": {
    "colab": {},
    "colab_type": "code",
    "id": "n260pNqViAUn"
   },
   "outputs": [],
   "source": [
    "# To fit the PCA model we load all the training points in a single batch\n",
    "# train, test = train_test_loader('Data_Set_1(Colored_Images)', label_dict, train_fraction=0.8, batch_size=2000, num_workers=0)\n",
    "train, test, train_size, test_size = train_test_loader('/content/drive/My Drive/Data_Set_1(Colored_Images)', label_dict, train_fraction=0.8, batch_size=2000, num_workers=0)"
   ]
  },
  {
   "cell_type": "code",
   "execution_count": 47,
   "metadata": {
    "colab": {
     "base_uri": "https://localhost:8080/",
     "height": 312
    },
    "colab_type": "code",
    "id": "86fyUeEoyZB5",
    "outputId": "ec471ddb-0fad-4e4e-b29f-71a2f5fea989"
   },
   "outputs": [
    {
     "name": "stdout",
     "output_type": "stream",
     "text": [
      "99% Variance Explained: 295\n"
     ]
    },
    {
     "data": {
      "image/png": "[encoded data removed]",
      "text/plain": [
       "<Figure size 432x288 with 1 Axes>"
      ]
     },
     "metadata": {
      "needs_background": "light",
      "tags": []
     },
     "output_type": "display_data"
    }
   ],
   "source": [
    "kk = 0\n",
    "for i in train:\n",
    "    temp = i[0]\n",
    "\n",
    "pca1 = PCA(n_components=temp.shape[1])\n",
    "pca1.fit(temp)\n",
    "\n",
    "print('99% Variance Explained:', np.where(np.cumsum(pca1.explained_variance_ratio_)>=0.99)[0][0]+1)\n",
    "explained_var = np.cumsum(pca1.explained_variance_ratio_)\n",
    "plt.plot(explained_var)\n",
    "plt.title('PCA: Variance Explained')\n",
    "plt.xlabel('No. of components')\n",
    "plt.ylabel('Variance Explained')\n",
    "plt.show()"
   ]
  },
  {
   "cell_type": "code",
   "execution_count": 49,
   "metadata": {
    "colab": {},
    "colab_type": "code",
    "id": "xODHGEIziAUq"
   },
   "outputs": [],
   "source": [
    "def return_pca(temp):\n",
    "    pca = PCA(n_components=0.99)\n",
    "    pca.fit(temp)\n",
    "    return pca\n",
    "\n",
    "PCA_model = return_pca(temp)"
   ]
  },
  {
   "cell_type": "code",
   "execution_count": 51,
   "metadata": {
    "colab": {},
    "colab_type": "code",
    "id": "WYPOH8V0iAUv"
   },
   "outputs": [],
   "source": [
    "reduced_dimension = PCA_model.transform(temp).shape[1]\n",
    "pca_clf = FinalNet(reduced_dimension, [150, 50], 5)"
   ]
  },
  {
   "cell_type": "code",
   "execution_count": 52,
   "metadata": {
    "colab": {
     "base_uri": "https://localhost:8080/",
     "height": 34
    },
    "colab_type": "code",
    "id": "Ia5lUuzsiAUz",
    "outputId": "b4d14d6e-3caa-4d86-caea-fd0c88420ac2"
   },
   "outputs": [
    {
     "data": {
      "text/plain": [
       "295"
      ]
     },
     "execution_count": 52,
     "metadata": {
      "tags": []
     },
     "output_type": "execute_result"
    }
   ],
   "source": [
    "reduced_dimension"
   ]
  },
  {
   "cell_type": "code",
   "execution_count": 55,
   "metadata": {
    "colab": {},
    "colab_type": "code",
    "id": "5s9qE34QiAU2"
   },
   "outputs": [],
   "source": [
    "criterion = nn.CrossEntropyLoss()\n",
    "optimizer = optim.SGD(pca_clf.parameters(), lr=0.001, momentum=0.9)\n",
    "pca_clf = pca_clf.to(device)"
   ]
  },
  {
   "cell_type": "code",
   "execution_count": 56,
   "metadata": {
    "colab": {
     "base_uri": "https://localhost:8080/",
     "height": 1000
    },
    "colab_type": "code",
    "id": "AxWdHntPiAU5",
    "outputId": "c36af60e-10cf-4550-ce1c-95d10a7d215c"
   },
   "outputs": [
    {
     "name": "stdout",
     "output_type": "stream",
     "text": [
      "Epoch 1 : Loss = 0.5113905675031921\n",
      "Epoch 2 : Loss = 0.5035759210586548\n",
      "Epoch 3 : Loss = 0.49537857689640746\n",
      "Epoch 4 : Loss = 0.48751894655552774\n",
      "Epoch 5 : Loss = 0.47988560457121243\n",
      "Epoch 6 : Loss = 0.4718764322725208\n",
      "Epoch 7 : Loss = 0.4651388227939606\n",
      "Epoch 8 : Loss = 0.45846574279395014\n",
      "Epoch 9 : Loss = 0.45060256360606715\n",
      "Epoch 10 : Loss = 0.4432249211452224\n",
      "Epoch 11 : Loss = 0.4359471831809391\n",
      "Epoch 12 : Loss = 0.42857543514533475\n",
      "Epoch 13 : Loss = 0.42159939354116277\n",
      "Epoch 14 : Loss = 0.4153945144604554\n",
      "Epoch 15 : Loss = 0.40744643285870563\n",
      "Epoch 16 : Loss = 0.4000686579807239\n",
      "Epoch 17 : Loss = 0.393373984166167\n",
      "Epoch 18 : Loss = 0.3871965689415281\n",
      "Epoch 19 : Loss = 0.38036598773165176\n",
      "Epoch 20 : Loss = 0.37356085025451413\n",
      "Epoch 21 : Loss = 0.36648224565115844\n",
      "Epoch 22 : Loss = 0.3599016097458927\n",
      "Epoch 23 : Loss = 0.35263247279958276\n",
      "Epoch 24 : Loss = 0.3463304364545779\n",
      "Epoch 25 : Loss = 0.3402317406778986\n",
      "Epoch 26 : Loss = 0.33470577374100685\n",
      "Epoch 27 : Loss = 0.325683868066831\n",
      "Epoch 28 : Loss = 0.32066942920738994\n",
      "Epoch 29 : Loss = 0.31511582230979734\n",
      "Epoch 30 : Loss = 0.30798827077854773\n",
      "Epoch 31 : Loss = 0.3022128868509423\n",
      "Epoch 32 : Loss = 0.29678192091259087\n",
      "Epoch 33 : Loss = 0.29076923565431073\n",
      "Epoch 34 : Loss = 0.28287069634957746\n",
      "Epoch 35 : Loss = 0.27697004208510567\n",
      "Epoch 36 : Loss = 0.27165563777089113\n",
      "Epoch 37 : Loss = 0.2649925730445168\n",
      "Epoch 38 : Loss = 0.2594311003657904\n",
      "Epoch 39 : Loss = 0.25367006405510684\n",
      "Epoch 40 : Loss = 0.2486076336354017\n",
      "Epoch 41 : Loss = 0.24314386380667039\n",
      "Epoch 42 : Loss = 0.2369740778072314\n",
      "Epoch 43 : Loss = 0.23166934045201\n",
      "Epoch 44 : Loss = 0.22663919593800205\n",
      "Epoch 45 : Loss = 0.22061244398355484\n",
      "Epoch 46 : Loss = 0.21529195660894565\n",
      "Epoch 47 : Loss = 0.21048949929800906\n",
      "Epoch 48 : Loss = 0.20447397875514903\n",
      "Epoch 49 : Loss = 0.19978184828704051\n",
      "Epoch 50 : Loss = 0.19471771456301212\n",
      "Epoch 51 : Loss = 0.19005128080871977\n",
      "Epoch 52 : Loss = 0.1852972155267542\n",
      "Epoch 53 : Loss = 0.18075412985953415\n",
      "Epoch 54 : Loss = 0.1761810278350657\n",
      "Epoch 55 : Loss = 0.17161186174912882\n",
      "Epoch 56 : Loss = 0.16727755862203514\n",
      "Epoch 57 : Loss = 0.16242809813808315\n",
      "Epoch 58 : Loss = 0.15852928229353644\n",
      "Epoch 59 : Loss = 0.1529035002670505\n",
      "Epoch 60 : Loss = 0.14963905462487181\n",
      "Epoch 61 : Loss = 0.1456745871427384\n",
      "Epoch 62 : Loss = 0.14205960099670023\n",
      "Epoch 63 : Loss = 0.13760027340189973\n",
      "Epoch 64 : Loss = 0.13465083576738834\n",
      "Epoch 65 : Loss = 0.13014447756788944\n",
      "Epoch 66 : Loss = 0.12663180414925923\n",
      "Epoch 67 : Loss = 0.12386385199021208\n",
      "Epoch 68 : Loss = 0.1195813105864958\n",
      "Epoch 69 : Loss = 0.11686773581260985\n",
      "Epoch 70 : Loss = 0.11313808946446934\n",
      "Epoch 71 : Loss = 0.11035748283294113\n",
      "Epoch 72 : Loss = 0.10674906979230317\n",
      "Epoch 73 : Loss = 0.10394266721877185\n",
      "Epoch 74 : Loss = 0.1014529701152986\n",
      "Epoch 75 : Loss = 0.0987885900857774\n",
      "Epoch 76 : Loss = 0.0961599130691453\n",
      "Epoch 77 : Loss = 0.09339925672181627\n",
      "Epoch 78 : Loss = 0.09085373775186861\n",
      "Epoch 79 : Loss = 0.0886683469130234\n",
      "Epoch 80 : Loss = 0.08619828742336146\n",
      "Epoch 81 : Loss = 0.08372797850858082\n",
      "Epoch 82 : Loss = 0.08200541739775377\n",
      "Epoch 83 : Loss = 0.07965411355888301\n",
      "Epoch 84 : Loss = 0.07726801085201179\n",
      "Epoch 85 : Loss = 0.07528056991709904\n",
      "Epoch 86 : Loss = 0.07319232669066299\n",
      "Epoch 87 : Loss = 0.07128443492745809\n",
      "Epoch 88 : Loss = 0.0697614544663917\n",
      "Epoch 89 : Loss = 0.06798915378749372\n",
      "Epoch 90 : Loss = 0.06635106583549219\n",
      "Epoch 91 : Loss = 0.06488776444034143\n",
      "Epoch 92 : Loss = 0.06308130589737132\n",
      "Epoch 93 : Loss = 0.06131884362548591\n",
      "Epoch 94 : Loss = 0.06007918215949425\n",
      "Epoch 95 : Loss = 0.058577152561735034\n",
      "Epoch 96 : Loss = 0.05739837182177738\n",
      "Epoch 97 : Loss = 0.055829137733036806\n",
      "Epoch 98 : Loss = 0.0544923485934057\n",
      "Epoch 99 : Loss = 0.05335764777423305\n",
      "Epoch 100 : Loss = 0.05220963869413192\n",
      "Epoch 101 : Loss = 0.05090916834094308\n",
      "Epoch 102 : Loss = 0.0499831283126365\n",
      "Epoch 103 : Loss = 0.048709685702554184\n",
      "Epoch 104 : Loss = 0.0477299693209881\n",
      "Epoch 105 : Loss = 0.04677116701548749\n",
      "Epoch 106 : Loss = 0.04568423093719915\n",
      "Epoch 107 : Loss = 0.04461687684736468\n",
      "Epoch 108 : Loss = 0.04382712652229449\n",
      "Epoch 109 : Loss = 0.04297929020090536\n",
      "Epoch 110 : Loss = 0.04197313052348115\n",
      "Epoch 111 : Loss = 0.04117919000881638\n",
      "Epoch 112 : Loss = 0.04054296859116718\n",
      "Epoch 113 : Loss = 0.03950868555429307\n",
      "Epoch 114 : Loss = 0.038864080540158524\n",
      "Epoch 115 : Loss = 0.03817055255851963\n",
      "Epoch 116 : Loss = 0.03742950020188636\n",
      "Epoch 117 : Loss = 0.03657002272931011\n",
      "Epoch 118 : Loss = 0.035923640582371845\n",
      "Epoch 119 : Loss = 0.03530833125114441\n",
      "Epoch 120 : Loss = 0.03470089121467687\n",
      "Epoch 121 : Loss = 0.03407121877270667\n",
      "Epoch 122 : Loss = 0.03342597859657624\n",
      "Epoch 123 : Loss = 0.032809961629523474\n",
      "Epoch 124 : Loss = 0.03229733128947291\n",
      "Epoch 125 : Loss = 0.031813890673220165\n",
      "Epoch 126 : Loss = 0.031180917370048435\n",
      "Epoch 127 : Loss = 0.030594913034953854\n",
      "Epoch 128 : Loss = 0.030056584287773483\n",
      "Epoch 129 : Loss = 0.02959499952637337\n",
      "Epoch 130 : Loss = 0.029100245669145475\n",
      "Epoch 131 : Loss = 0.02861070120707154\n",
      "Epoch 132 : Loss = 0.028197170087051665\n",
      "Epoch 133 : Loss = 0.02767860648137602\n",
      "Epoch 134 : Loss = 0.02729453256523068\n",
      "Epoch 135 : Loss = 0.026808164780959477\n",
      "Epoch 136 : Loss = 0.026413242247971622\n",
      "Epoch 137 : Loss = 0.02609636772169986\n",
      "Epoch 138 : Loss = 0.025658407015725967\n",
      "Epoch 139 : Loss = 0.025246903448450295\n",
      "Epoch 140 : Loss = 0.02491106893020597\n",
      "Epoch 141 : Loss = 0.024526699805970897\n",
      "Epoch 142 : Loss = 0.024119917536154386\n",
      "Epoch 143 : Loss = 0.023813240293582734\n",
      "Epoch 144 : Loss = 0.023470408621836795\n",
      "Epoch 145 : Loss = 0.023118140006607234\n",
      "Epoch 146 : Loss = 0.02279508490623398\n",
      "Epoch 147 : Loss = 0.022473161341622472\n",
      "Epoch 148 : Loss = 0.022137403466992757\n",
      "Epoch 149 : Loss = 0.021860661450773478\n",
      "Epoch 150 : Loss = 0.021513066085224804\n",
      "Epoch 151 : Loss = 0.021307091757824477\n",
      "Epoch 152 : Loss = 0.020974950399249792\n",
      "Epoch 153 : Loss = 0.02073956780474295\n",
      "Epoch 154 : Loss = 0.0204295749056407\n",
      "Epoch 155 : Loss = 0.02019377090883526\n",
      "Epoch 156 : Loss = 0.01997666122307154\n",
      "Epoch 157 : Loss = 0.019722247538580137\n",
      "Epoch 158 : Loss = 0.01939722673374821\n",
      "Epoch 159 : Loss = 0.01916199255819348\n",
      "Epoch 160 : Loss = 0.018946392165327616\n",
      "Epoch 161 : Loss = 0.018693855011158365\n",
      "Epoch 162 : Loss = 0.018497451399029658\n",
      "Epoch 163 : Loss = 0.018249164610593158\n",
      "Epoch 164 : Loss = 0.018018187023699287\n",
      "Epoch 165 : Loss = 0.01779647829773074\n",
      "Epoch 166 : Loss = 0.01758925381793895\n",
      "Epoch 167 : Loss = 0.017374788940122184\n",
      "Epoch 168 : Loss = 0.01718711924993179\n",
      "Epoch 169 : Loss = 0.016975685784762558\n",
      "Epoch 170 : Loss = 0.016783860215747893\n",
      "Epoch 171 : Loss = 0.01659145578742027\n",
      "Epoch 172 : Loss = 0.016415917441587557\n",
      "Epoch 173 : Loss = 0.016217153731056234\n",
      "Epoch 174 : Loss = 0.016056012319908903\n",
      "Epoch 175 : Loss = 0.01591402728279883\n",
      "Epoch 176 : Loss = 0.015697312520139593\n",
      "Epoch 177 : Loss = 0.015548988308926873\n",
      "Epoch 178 : Loss = 0.015382227297364307\n",
      "Epoch 179 : Loss = 0.01519165003926239\n",
      "Epoch 180 : Loss = 0.015025953190739856\n",
      "Epoch 181 : Loss = 0.014893959085880357\n",
      "Epoch 182 : Loss = 0.01472910095683553\n",
      "Epoch 183 : Loss = 0.014576809755949811\n",
      "Epoch 184 : Loss = 0.014429867394607178\n",
      "Epoch 185 : Loss = 0.014284598429433326\n",
      "Epoch 186 : Loss = 0.014123919822106312\n",
      "Epoch 187 : Loss = 0.013983199542218988\n",
      "Epoch 188 : Loss = 0.01385659705424173\n",
      "Epoch 189 : Loss = 0.013719638957726685\n",
      "Epoch 190 : Loss = 0.013552656079727141\n",
      "Epoch 191 : Loss = 0.013445347103036263\n",
      "Epoch 192 : Loss = 0.013320925412699578\n",
      "Epoch 193 : Loss = 0.013197747609493405\n",
      "Epoch 194 : Loss = 0.013043561865660275\n",
      "Epoch 195 : Loss = 0.012936998518522494\n",
      "Epoch 196 : Loss = 0.012805988334796648\n",
      "Epoch 197 : Loss = 0.012695107196288356\n",
      "Epoch 198 : Loss = 0.012573322524655272\n",
      "Epoch 199 : Loss = 0.012461868538097902\n",
      "Epoch 200 : Loss = 0.01232912481381473\n",
      "Epoch 201 : Loss = 0.01221879226663573\n",
      "Epoch 202 : Loss = 0.012104334542527797\n",
      "Epoch 203 : Loss = 0.011999726538885046\n",
      "Epoch 204 : Loss = 0.011907883729277684\n",
      "Epoch 205 : Loss = 0.011781338157809594\n",
      "Epoch 206 : Loss = 0.011678819777444003\n",
      "Epoch 207 : Loss = 0.011587236637503589\n",
      "Epoch 208 : Loss = 0.011494334490800444\n",
      "Epoch 209 : Loss = 0.011385132727975193\n",
      "Epoch 210 : Loss = 0.011288284027779644\n",
      "Epoch 211 : Loss = 0.011182697870853273\n",
      "Epoch 212 : Loss = 0.011088353676975452\n",
      "Epoch 213 : Loss = 0.011006877588277512\n",
      "Epoch 214 : Loss = 0.01091626808258959\n",
      "Epoch 215 : Loss = 0.010806624502451583\n",
      "Epoch 216 : Loss = 0.010728444586592641\n",
      "Epoch 217 : Loss = 0.01064225198404694\n",
      "Epoch 218 : Loss = 0.010554142380979927\n",
      "Epoch 219 : Loss = 0.010466370985589243\n",
      "Epoch 220 : Loss = 0.01038052406246689\n",
      "Epoch 221 : Loss = 0.010306862500411544\n",
      "Epoch 222 : Loss = 0.0102272361241789\n",
      "Epoch 223 : Loss = 0.010135789137248967\n",
      "Epoch 224 : Loss = 0.01004673033656383\n",
      "Epoch 225 : Loss = 0.009974771570837633\n",
      "Epoch 226 : Loss = 0.009886846094476905\n",
      "Epoch 227 : Loss = 0.009814411475831135\n",
      "Epoch 228 : Loss = 0.009738465517081999\n",
      "Epoch 229 : Loss = 0.009671691551127215\n",
      "Epoch 230 : Loss = 0.009585988654924387\n",
      "Epoch 231 : Loss = 0.009515380042351102\n",
      "Epoch 232 : Loss = 0.009440994302911515\n",
      "Epoch 233 : Loss = 0.009377072925086721\n",
      "Epoch 234 : Loss = 0.009299121701835911\n",
      "Epoch 235 : Loss = 0.009232160677625372\n",
      "Epoch 236 : Loss = 0.009176553184674545\n",
      "Epoch 237 : Loss = 0.009092927984469996\n",
      "Epoch 238 : Loss = 0.009036253386346458\n",
      "Epoch 239 : Loss = 0.008966958584179254\n",
      "Epoch 240 : Loss = 0.008903553053228692\n",
      "Epoch 241 : Loss = 0.008847281484949319\n",
      "Epoch 242 : Loss = 0.008776935367760334\n",
      "Epoch 243 : Loss = 0.008711696390739895\n",
      "Epoch 244 : Loss = 0.008654516613618893\n",
      "Epoch 245 : Loss = 0.00858867821410637\n",
      "Epoch 246 : Loss = 0.008533830235881562\n",
      "Epoch 247 : Loss = 0.008474921987561342\n",
      "Epoch 248 : Loss = 0.008411362925967709\n",
      "Epoch 249 : Loss = 0.008352105823260817\n",
      "Epoch 250 : Loss = 0.008309109295210379\n",
      "Epoch 251 : Loss = 0.008242562508464536\n",
      "Epoch 252 : Loss = 0.008185863907618279\n",
      "Epoch 253 : Loss = 0.008134470765732907\n",
      "Epoch 254 : Loss = 0.00807837331244214\n",
      "Epoch 255 : Loss = 0.008027039510621264\n",
      "Epoch 256 : Loss = 0.00796357629058713\n",
      "Epoch 257 : Loss = 0.00790907978080213\n",
      "Epoch 258 : Loss = 0.007862987663512204\n",
      "Epoch 259 : Loss = 0.007822266726923939\n",
      "Epoch 260 : Loss = 0.007763440604321658\n",
      "Epoch 261 : Loss = 0.007712816491469063\n",
      "Epoch 262 : Loss = 0.007664730560711838\n",
      "Epoch 263 : Loss = 0.007618303484791385\n",
      "Epoch 264 : Loss = 0.0075676714027808475\n",
      "Epoch 265 : Loss = 0.0075189926428720355\n",
      "Epoch 266 : Loss = 0.007466559520583938\n",
      "Epoch 267 : Loss = 0.007420845975337381\n",
      "Epoch 268 : Loss = 0.007375089673918081\n",
      "Epoch 269 : Loss = 0.007336775100239636\n",
      "Epoch 270 : Loss = 0.00728688629301773\n",
      "Epoch 271 : Loss = 0.0072374604271978815\n",
      "Epoch 272 : Loss = 0.00719921269708059\n",
      "Epoch 273 : Loss = 0.007148730843751267\n",
      "Epoch 274 : Loss = 0.007101828962649135\n",
      "Epoch 275 : Loss = 0.007062958648682318\n",
      "Epoch 276 : Loss = 0.007017721882386303\n",
      "Epoch 277 : Loss = 0.006976860289631242\n",
      "Epoch 278 : Loss = 0.006945246825291013\n",
      "Converged\n",
      "Finished Training\n"
     ]
    },
    {
     "data": {
      "image/png": "[encoded data removed]",
      "text/plain": [
       "<Figure size 432x288 with 1 Axes>"
      ]
     },
     "metadata": {
      "needs_background": "light",
      "tags": []
     },
     "output_type": "display_data"
    }
   ],
   "source": [
    "old_loss = np.inf\n",
    "\n",
    "max_epoch = 500\n",
    "losses= []\n",
    "for epoch in range(max_epoch):\n",
    "\n",
    "    running_loss = 0.0\n",
    "    \n",
    "    for data in trainloader:\n",
    "        \n",
    "        X, y = data[0], data[1].to(device)\n",
    "        \n",
    "        # applying PCA on the data to use as input to the MLFFNN\n",
    "        Z = torch.Tensor(PCA_model.transform(X)).to(device)\n",
    "        \n",
    "        optimizer.zero_grad()\n",
    "        \n",
    "        # Forward\n",
    "        y_hat = pca_clf(Z)\n",
    "        \n",
    "        # Calculate Loss (Cross Entropy)\n",
    "        loss = criterion(y_hat, y)\n",
    "        \n",
    "        # Backpropagation\n",
    "        loss.backward()\n",
    "        \n",
    "        # Update Parameters\n",
    "        optimizer.step()\n",
    "        \n",
    "        running_loss += loss.item()*len(X)/train_size\n",
    "    \n",
    "    print('Epoch', epoch+1, ': Loss =', running_loss)\n",
    "    losses.append(running_loss)\n",
    "\n",
    "    if abs(running_loss-old_loss)/running_loss < 0.005 and running_loss<0.01:\n",
    "        print('Converged')\n",
    "        break\n",
    "    \n",
    "    old_loss = running_loss\n",
    "\n",
    "print('Finished Training')\n",
    "plt.plot(losses)\n",
    "plt.ylabel('Loss')\n",
    "plt.xlabel('Iter Number')\n",
    "plt.title('Convergence monitor plot')\n",
    "plt.show()"
   ]
  },
  {
   "cell_type": "code",
   "execution_count": 62,
   "metadata": {
    "colab": {
     "base_uri": "https://localhost:8080/",
     "height": 221
    },
    "colab_type": "code",
    "id": "VoXwDQ8biAU9",
    "outputId": "274a85af-da22-4543-c75f-8c0e18fd1600"
   },
   "outputs": [
    {
     "name": "stdout",
     "output_type": "stream",
     "text": [
      "Train Loss = 0.00685884291306138\n"
     ]
    },
    {
     "data": {
      "text/html": [
       "<div>\n",
       "<style scoped>\n",
       "    .dataframe tbody tr th:only-of-type {\n",
       "        vertical-align: middle;\n",
       "    }\n",
       "\n",
       "    .dataframe tbody tr th {\n",
       "        vertical-align: top;\n",
       "    }\n",
       "\n",
       "    .dataframe thead th {\n",
       "        text-align: right;\n",
       "    }\n",
       "</style>\n",
       "<table border=\"1\" class=\"dataframe\">\n",
       "  <thead>\n",
       "    <tr style=\"text-align: right;\">\n",
       "      <th></th>\n",
       "      <th>0</th>\n",
       "      <th>1</th>\n",
       "      <th>2</th>\n",
       "      <th>3</th>\n",
       "      <th>4</th>\n",
       "    </tr>\n",
       "  </thead>\n",
       "  <tbody>\n",
       "    <tr>\n",
       "      <th>0</th>\n",
       "      <td>293</td>\n",
       "      <td>0</td>\n",
       "      <td>0</td>\n",
       "      <td>0</td>\n",
       "      <td>0</td>\n",
       "    </tr>\n",
       "    <tr>\n",
       "      <th>1</th>\n",
       "      <td>0</td>\n",
       "      <td>322</td>\n",
       "      <td>0</td>\n",
       "      <td>0</td>\n",
       "      <td>0</td>\n",
       "    </tr>\n",
       "    <tr>\n",
       "      <th>2</th>\n",
       "      <td>0</td>\n",
       "      <td>0</td>\n",
       "      <td>299</td>\n",
       "      <td>0</td>\n",
       "      <td>0</td>\n",
       "    </tr>\n",
       "    <tr>\n",
       "      <th>3</th>\n",
       "      <td>0</td>\n",
       "      <td>0</td>\n",
       "      <td>0</td>\n",
       "      <td>194</td>\n",
       "      <td>0</td>\n",
       "    </tr>\n",
       "    <tr>\n",
       "      <th>4</th>\n",
       "      <td>0</td>\n",
       "      <td>0</td>\n",
       "      <td>0</td>\n",
       "      <td>0</td>\n",
       "      <td>300</td>\n",
       "    </tr>\n",
       "  </tbody>\n",
       "</table>\n",
       "</div>"
      ],
      "text/plain": [
       "     0    1    2    3    4\n",
       "0  293    0    0    0    0\n",
       "1    0  322    0    0    0\n",
       "2    0    0  299    0    0\n",
       "3    0    0    0  194    0\n",
       "4    0    0    0    0  300"
      ]
     },
     "execution_count": 62,
     "metadata": {
      "tags": []
     },
     "output_type": "execute_result"
    }
   ],
   "source": [
    "with torch.no_grad():\n",
    "    \n",
    "    train_loss = 0.0\n",
    "    y_train = []\n",
    "    y_train_pred = []\n",
    "\n",
    "    for data in trainloader:\n",
    "\n",
    "        X, y = data[0], data[1].to(device)\n",
    "        Z = torch.Tensor(PCA_model.transform(X)).to(device)\n",
    "        y_hat = pca_clf(Z)      \n",
    "        train_loss += criterion(y_hat, y)*len(X)/train_size\n",
    "        \n",
    "        y_train.extend(list(y.cpu().detach().numpy()))\n",
    "        y_train_pred.extend(list(torch.argmax(y_hat, axis=1).cpu().detach().numpy()))\n",
    "\n",
    "print('Train Loss =', train_loss.item())\n",
    "pd.DataFrame(confusion_matrix(y_train, y_train_pred))"
   ]
  },
  {
   "cell_type": "code",
   "execution_count": 58,
   "metadata": {
    "colab": {
     "base_uri": "https://localhost:8080/",
     "height": 34
    },
    "colab_type": "code",
    "id": "267e_aGo3RCs",
    "outputId": "7372c1d7-09ff-4b6e-d0c4-6029210ec65b"
   },
   "outputs": [
    {
     "name": "stdout",
     "output_type": "stream",
     "text": [
      "Train Accuracy = 1.0 Train Precision = 1.0 Train F1 = 1.0\n"
     ]
    }
   ],
   "source": [
    "from sklearn.metrics import accuracy_score, f1_score, precision_score\n",
    "acc = accuracy_score(y_train, y_train_pred)\n",
    "prec = precision_score(y_train, y_train_pred, average='macro')\n",
    "f1 = f1_score(y_train, y_train_pred, average='macro')\n",
    "\n",
    "print('Train Accuracy =', acc, 'Train Precision =', prec, 'Train F1 =', f1)"
   ]
  },
  {
   "cell_type": "code",
   "execution_count": 61,
   "metadata": {
    "colab": {
     "base_uri": "https://localhost:8080/",
     "height": 221
    },
    "colab_type": "code",
    "id": "EV0KYYroiAVB",
    "outputId": "91de8f63-dd5d-4565-c49e-9912c1ff6029"
   },
   "outputs": [
    {
     "name": "stdout",
     "output_type": "stream",
     "text": [
      "Test Loss = 2.064488649368286\n"
     ]
    },
    {
     "data": {
      "text/html": [
       "<div>\n",
       "<style scoped>\n",
       "    .dataframe tbody tr th:only-of-type {\n",
       "        vertical-align: middle;\n",
       "    }\n",
       "\n",
       "    .dataframe tbody tr th {\n",
       "        vertical-align: top;\n",
       "    }\n",
       "\n",
       "    .dataframe thead th {\n",
       "        text-align: right;\n",
       "    }\n",
       "</style>\n",
       "<table border=\"1\" class=\"dataframe\">\n",
       "  <thead>\n",
       "    <tr style=\"text-align: right;\">\n",
       "      <th></th>\n",
       "      <th>0</th>\n",
       "      <th>1</th>\n",
       "      <th>2</th>\n",
       "      <th>3</th>\n",
       "      <th>4</th>\n",
       "    </tr>\n",
       "  </thead>\n",
       "  <tbody>\n",
       "    <tr>\n",
       "      <th>0</th>\n",
       "      <td>31</td>\n",
       "      <td>8</td>\n",
       "      <td>20</td>\n",
       "      <td>3</td>\n",
       "      <td>1</td>\n",
       "    </tr>\n",
       "    <tr>\n",
       "      <th>1</th>\n",
       "      <td>3</td>\n",
       "      <td>58</td>\n",
       "      <td>11</td>\n",
       "      <td>1</td>\n",
       "      <td>15</td>\n",
       "    </tr>\n",
       "    <tr>\n",
       "      <th>2</th>\n",
       "      <td>16</td>\n",
       "      <td>15</td>\n",
       "      <td>34</td>\n",
       "      <td>5</td>\n",
       "      <td>5</td>\n",
       "    </tr>\n",
       "    <tr>\n",
       "      <th>3</th>\n",
       "      <td>3</td>\n",
       "      <td>6</td>\n",
       "      <td>8</td>\n",
       "      <td>39</td>\n",
       "      <td>10</td>\n",
       "    </tr>\n",
       "    <tr>\n",
       "      <th>4</th>\n",
       "      <td>1</td>\n",
       "      <td>15</td>\n",
       "      <td>5</td>\n",
       "      <td>1</td>\n",
       "      <td>38</td>\n",
       "    </tr>\n",
       "  </tbody>\n",
       "</table>\n",
       "</div>"
      ],
      "text/plain": [
       "    0   1   2   3   4\n",
       "0  31   8  20   3   1\n",
       "1   3  58  11   1  15\n",
       "2  16  15  34   5   5\n",
       "3   3   6   8  39  10\n",
       "4   1  15   5   1  38"
      ]
     },
     "execution_count": 61,
     "metadata": {
      "tags": []
     },
     "output_type": "execute_result"
    }
   ],
   "source": [
    "with torch.no_grad():\n",
    "    \n",
    "    test_loss = 0.0\n",
    "    y_test = []\n",
    "    y_test_pred = []\n",
    "\n",
    "    for data in testloader:\n",
    "\n",
    "        X, y = data[0], data[1].to(device)\n",
    "        Z = torch.Tensor(PCA_model.transform(X)).to(device)\n",
    "        y_hat = pca_clf(Z)      \n",
    "        test_loss += criterion(y_hat, y)*len(X)/test_size\n",
    "        \n",
    "        y_test.extend(list(y.cpu().detach().numpy()))\n",
    "        y_test_pred.extend(list(torch.argmax(y_hat, axis=1).cpu().detach().numpy()))\n",
    "\n",
    "print('Test Loss =', test_loss.item())\n",
    "pd.DataFrame(confusion_matrix(y_test, y_test_pred))"
   ]
  },
  {
   "cell_type": "code",
   "execution_count": 60,
   "metadata": {
    "colab": {
     "base_uri": "https://localhost:8080/",
     "height": 34
    },
    "colab_type": "code",
    "id": "lku7GRBriAVG",
    "outputId": "eff00398-61d7-43f1-8d24-7f5ba2458372"
   },
   "outputs": [
    {
     "name": "stdout",
     "output_type": "stream",
     "text": [
      "Test Accuracy = 0.5681818181818182 Test Precision = 0.5850483931960001 Test F1 = 0.5704586893070742\n"
     ]
    }
   ],
   "source": [
    "acc = accuracy_score(y_test, y_test_pred)\n",
    "prec = precision_score(y_test, y_test_pred, average='macro')\n",
    "f1 = f1_score(y_test, y_test_pred, average='macro')\n",
    "\n",
    "print('Test Accuracy =', acc, 'Test Precision =', prec, 'Test F1 =', f1)"
   ]
  }
 ],
 "metadata": {
  "colab": {
   "collapsed_sections": [],
   "name": "Q1.ipynb",
   "provenance": []
  },
  "kernelspec": {
   "display_name": "Python 3",
   "language": "python",
   "name": "python3"
  },
  "language_info": {
   "codemirror_mode": {
    "name": "ipython",
    "version": 3
   },
   "file_extension": ".py",
   "mimetype": "text/x-python",
   "name": "python",
   "nbconvert_exporter": "python",
   "pygments_lexer": "ipython3",
   "version": "3.6.10"
  }
 },
 "nbformat": 4,
 "nbformat_minor": 1
}
