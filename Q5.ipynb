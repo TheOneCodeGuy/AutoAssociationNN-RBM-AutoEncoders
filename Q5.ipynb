{
 "cells": [
  {
   "cell_type": "markdown",
   "metadata": {},
   "source": [
    "## Group 3:\n",
    "Classes: 3, 1, 4, 6, 8\n",
    "    \n",
    "    Open Country - 3\n",
    "    Tall Building - 1\n",
    "    Mountain - 4\n",
    "    Highway - 6\n",
    "    Coast - 8\n"
   ]
  },
  {
   "cell_type": "code",
   "execution_count": 1,
   "metadata": {},
   "outputs": [],
   "source": [
    "import torch\n",
    "import torchvision\n",
    "import torchvision.transforms as transforms\n",
    "import tarfile\n",
    "import pandas as pd\n",
    "import os\n",
    "import re\n",
    "from torch.utils.data import Dataset, DataLoader, ConcatDataset, random_split\n",
    "import torch.nn as nn\n",
    "import torch.nn.functional as F\n",
    "import numpy as np\n",
    "import matplotlib.pyplot as plt\n",
    "import torch.optim as optim\n",
    "from sklearn.metrics import confusion_matrix\n",
    "from io import StringIO\n",
    "import pdb\n",
    "from math import sqrt, log"
   ]
  },
  {
   "cell_type": "code",
   "execution_count": 2,
   "metadata": {},
   "outputs": [
    {
     "name": "stdout",
     "output_type": "stream",
     "text": [
      "cuda:0\n"
     ]
    }
   ],
   "source": [
    "device = torch.device(\"cuda:0\" if torch.cuda.is_available() else \"cpu\")\n",
    "print(device)"
   ]
  },
  {
   "cell_type": "code",
   "execution_count": 3,
   "metadata": {},
   "outputs": [],
   "source": [
    "class DatasetClass(Dataset):\n",
    "    \n",
    "    def __init__(self, folder, filename, label_dict):\n",
    "        \n",
    "        self.data = []\n",
    "        self.filename = filename\n",
    "        tar = tarfile.open(folder + '/' + filename)\n",
    "        for file in tar.getmembers():\n",
    "            f = tar.extractfile(file)\n",
    "            if f != None:\n",
    "                content = pd.read_csv(StringIO(f.read().decode()), sep=' ', header=None).values.ravel()\n",
    "                self.data.append(content)\n",
    "            \n",
    "        self.y = torch.tensor(label_dict[self.filename[:-7]], dtype=torch.long)\n",
    "    \n",
    "    def __getitem__(self, idx):     \n",
    "        \n",
    "        return torch.tensor(self.data[idx], dtype=torch.float), self.y\n",
    "      \n",
    "    def __len__(self):\n",
    "        \n",
    "        return len(self.data)"
   ]
  },
  {
   "cell_type": "code",
   "execution_count": 4,
   "metadata": {},
   "outputs": [],
   "source": [
    "def train_test_loader(directory, label_dict, train_fraction=0.8, num_workers=2, bs_fraction = 0.2):\n",
    "\n",
    "    all_files = list(filter(lambda x: x.endswith('.tar.gz'), os.listdir(directory)))\n",
    "    files = [file for file in all_files if file[:-7] in label_dict.keys()]\n",
    "    \n",
    "    datasets = list(map(lambda x : DatasetClass(directory, x, label_dict), files))\n",
    "    dataset = ConcatDataset(datasets)\n",
    "    N = dataset.cumulative_sizes[-1]\n",
    "    \n",
    "    train_size = int(N*train_fraction)\n",
    "    test_size = N - train_size\n",
    "\n",
    "    train_data, test_data = torch.utils.data.random_split(dataset, [train_size, test_size])\n",
    "\n",
    "    trainloader = DataLoader(train_data, batch_size=bs_fraction*N, shuffle=True, num_workers=num_workers)\n",
    "    testloader = DataLoader(test_data, batch_size=bs_fraction*N, shuffle=True, num_workers=num_workers)\n",
    "    \n",
    "    return trainloader, testloader"
   ]
  },
  {
   "cell_type": "code",
   "execution_count": 5,
   "metadata": {},
   "outputs": [],
   "source": [
    "class GBRBM:\n",
    "    \n",
    "    def __init__(self, visible_nodes, h_len, lr_W=0.1, lr_bias=0.001):  \n",
    "        # set lower lr for bias than for the weights\n",
    "        self.N = visible_nodes.shape[0]\n",
    "        v_len = visible_nodes.shape[1]\n",
    "        self.V = visible_nodes.to(device)\n",
    "        self.sigma2 = torch.var(self.V, 0)[0].to(device)  \n",
    "        self.lr_W = lr_W\n",
    "        self.lr_bias = lr_bias\n",
    "        \n",
    "        # Initialisation done based on the methods mentioned in the paper\n",
    "        self.W = torch.empty(v_len, h_len).uniform_(-sqrt(6/(v_len+h_len)), sqrt(6/(v_len+h_len))).to(device)\n",
    "        self.b = torch.mean(visible_nodes, axis=0).view(1,-1).to(device)\n",
    "        self.c = torch.tensor([((torch.norm(self.b + self.W[:, i])**2 - torch.norm(self.b)**2)/(2*self.sigma2) +  log(0.01)).item() for i in range(h_len)]).view(1,-1).to(device)\n",
    "\n",
    "    def get_h(self, v):\n",
    "        \n",
    "        a = torch.mm((v/self.sigma2).view(1,-1), self.W) + self.c\n",
    "        f = torch.nn.Sigmoid()\n",
    "        p_h_v = f(a)\n",
    "        return p_h_v, torch.bernoulli(p_h_v)\n",
    "    \n",
    "    def get_v(self, h):\n",
    "        a = torch.mm(h.view(1,-1), self.W.T) + self.b # mean of normal dist\n",
    "        if (torch.isnan(a)).any().item():\n",
    "            pdb.set_trace()\n",
    "        else:\n",
    "            pass\n",
    "        v_h = torch.normal(mean=a, std=torch.sqrt(self.sigma2)).to(device)\n",
    "        return v_h\n",
    "    \n",
    "    def params_update(self, p_h_v0, p_h_vk, v0, vk):\n",
    "        self.W += self.lr_W*(torch.mm((v0/self.sigma2).view(-1,1), p_h_v0) - torch.mm((vk/self.sigma2).view(-1,1), p_h_vk))/self.N\n",
    "        self.b += self.lr_bias*(v0 - vk)/self.N\n",
    "        self.c += self.lr_bias*(p_h_v0 - p_h_vk)/self.N\n",
    "\n",
    "        \n",
    "    def one_epoch(self, k):\n",
    "        for v0 in self.V:\n",
    "            v_t = v0\n",
    "            for t in range(k):  \n",
    "                p_h_vt, h_t = self.get_h(v_t)\n",
    "                if t==0:\n",
    "                    p_h_v0 = p_h_vt                    \n",
    "                v_t1 = self.get_v(h_t)\n",
    "                v_t = v_t1\n",
    "\n",
    "            try:\n",
    "                V_k = torch.cat((V_k, v_t.view(1,-1)), dim=0)\n",
    "                H_k = torch.cat((H_k, h_t.view(1,-1)), dim=0)\n",
    "            except:\n",
    "                V_k = v_t.view(1,-1)\n",
    "                H_k = h_t.view(1,-1)\n",
    "            self.params_update(p_h_v0, p_h_vt, v0, v_t)\n",
    "        return V_k, H_k\n",
    "        \n",
    "    def train(self, k):\n",
    "        ep = 0\n",
    "        error_old = np.inf\n",
    "        while True:\n",
    "            ep += 1\n",
    "            ## Check if error should be SSE?\n",
    "            V_k, H_k = self.one_epoch(k)\n",
    "\n",
    "            error_new = torch.sum((V_k - self.V)**2) \n",
    "            print('Epoch: {0}, Error: {1}, Error diff :{2}'.format(ep, error_new, error_old-error_new))\n",
    "            \n",
    "            if abs(error_new - error_old) <= 1e-6:\n",
    "                print('Converged!')\n",
    "                self.V_train = V_k\n",
    "                self.H_train = H_k\n",
    "                break\n",
    "            error_old = error_new\n"
   ]
  },
  {
   "cell_type": "code",
   "execution_count": 6,
   "metadata": {},
   "outputs": [],
   "source": [
    "class BBRBM:\n",
    "    \n",
    "    def __init__(self, visible_nodes, h_len, lr_W=0.01, lr_bias=0.001):\n",
    "        \n",
    "        # set lower lr for bias than for the weights\n",
    "        \n",
    "        self.N = visible_nodes.shape[0]        \n",
    "        v_len = visible_nodes.shape[1]\n",
    "        self.W = torch.randn(v_len, h_len).to(device)\n",
    "        self.b = torch.randn(1, v_len).to(device)\n",
    "        self.c = torch.randn(1, h_len).to(device)\n",
    "        self.V = visible_nodes.to(device)\n",
    "        self.lr_W = lr_W\n",
    "        self.lr_bias = lr_bias        \n",
    "        \n",
    "    def get_h(self, v):\n",
    "        \n",
    "        a = torch.mm(v.view(1,-1), self.W) + self.c\n",
    "        f = torch.nn.Sigmoid()\n",
    "        p_h_v = f(a)\n",
    "        return p_h_v, torch.bernoulli(p_h_v)\n",
    "    \n",
    "    def get_v(self, h):\n",
    "        a = torch.mm(h.view(1,-1), self.W.T) + self.b\n",
    "        f = torch.nn.Sigmoid()\n",
    "        p_v_h = f(a)\n",
    "        return p_v_h, torch.bernoulli(p_v_h)\n",
    "    \n",
    "    def params_update(self, p_h_v0, p_h_vk, v0, vk):\n",
    "        self.W += self.lr_W*(torch.mm(v0.view(-1,1), p_h_v0) - torch.mm(vk.view(-1,1), p_h_vk))/self.N\n",
    "        self.b += self.lr_bias*(v0 - vk)/self.N\n",
    "        self.c += self.lr_bias*(p_h_v0 - p_h_vk)/self.N\n",
    "        \n",
    "    def one_epoch(self, k):\n",
    "\n",
    "        for v0 in self.V:\n",
    "            v_t = v0\n",
    "            for t in range(k):  \n",
    "                p_h_vt, h_t = self.get_h(v_t)\n",
    "                if t==0:\n",
    "                    p_h_v0 = p_h_vt                    \n",
    "                p_v_ht, v_t1 = self.get_v(h_t)\n",
    "                v_t = v_t1\n",
    "\n",
    "            try:\n",
    "                V_k = torch.cat((V_k, v_t.view(1,-1)), dim=0)\n",
    "                H_k = torch.cat((H_k, h_t.view(1,-1)), dim=0)\n",
    "            except:\n",
    "                V_k = v_t.view(1,-1)\n",
    "                H_k = h_t.view(1,-1)\n",
    "\n",
    "            self.params_update(p_h_v0, p_h_vt, v0, v_t)\n",
    "\n",
    "        return V_k\n",
    "        \n",
    "    def train(self, k):\n",
    "        ep = 0\n",
    "        error_old = np.inf\n",
    "        while True:\n",
    "            ep += 1\n",
    "            ## Check if error should be SSE?\n",
    "            V_k, H_h = self.one_epoch(k)\n",
    "            error_new = torch.sum((V_k - self.V)**2) \n",
    "            print('Epoch: {0}, Error: {1}'.format(ep, error_new))\n",
    "            \n",
    "            if abs(error_new - error_old) <= 1e-6:\n",
    "                print('Converged!')\n",
    "                self.V_train = V_k\n",
    "                self.H_train = H_k                \n",
    "                break\n",
    "            error_old = error_new"
   ]
  },
  {
   "cell_type": "code",
   "execution_count": 7,
   "metadata": {},
   "outputs": [],
   "source": [
    "class FinalNet(nn.Module):\n",
    "    \n",
    "    def __init__(self, input_size, hidden_sizes, num_classes):\n",
    "        super(FinalNet, self).__init__()\n",
    "        \n",
    "        self.fc1 = nn.Linear(input_size, hidden_sizes[0])\n",
    "        self.fc2 = nn.Linear(hidden_sizes[0], hidden_sizes[1])\n",
    "        self.fc3 = nn.Linear(hidden_sizes[1], hidden_sizes[2])\n",
    "        self.out = nn.Linear(hidden_sizes[2], num_classes)\n",
    "    \n",
    "    def forward(self, x):\n",
    "        \n",
    "        x = torch.tanh(self.fc1(x))\n",
    "        x = torch.tanh(self.fc2(x))\n",
    "        x = torch.tanh(self.fc3(x))\n",
    "        x = self.out(x)\n",
    "        \n",
    "        return x\n",
    "    \n",
    "    def predict(self, X):\n",
    "        \n",
    "        with torch.no_grad():\n",
    "            y_score = self.forward(X)\n",
    "            y_pred = torch.argmax(y_score, axis=1)\n",
    "            \n",
    "        return y_pred   "
   ]
  },
  {
   "cell_type": "code",
   "execution_count": 8,
   "metadata": {},
   "outputs": [],
   "source": [
    "def Gaussian_stacked_RBM(v, n_stacks, h_layers_len, learning_rates, k_list):\n",
    "    '''\n",
    "    Parameters:\n",
    "    ------------\n",
    "    v              - Input to RBM (visible nodes). Must be continuous valued, whitened.\n",
    "    n_stacks       - No. of RMBs to be stacked\n",
    "    h_layers_len   - List of no. of nodes in the hidden layer of each RMB\n",
    "    learning_rates - List of list of learning rates (for Weights, bias) for each RBM\n",
    "    k_list         - List of k values for each RBM\n",
    "     '''\n",
    "    \n",
    "    weights = []\n",
    "    biases = []\n",
    "    \n",
    "    print('------Gaussian Binary RBM------')\n",
    "    gaussain = GBRBM(v_whitened.to(device), h_layers_len[0], learning_rates[0][0], learning_rates[0][1])\n",
    "    gaussain.train(k_list[0])\n",
    "    weights.append(gaussain.W)\n",
    "    biases.append(gaussain.b)\n",
    "    v_new = gaussain.H_train\n",
    "    \n",
    "    for i in range(1, n_stacks):\n",
    "        print('------Binary Binary RBM {0}------'.format(i))\n",
    "        binary = BBRBM(v_new.to(device), h_layers_len[i], learning_rates[i][0], learning_rates[i][1])\n",
    "        binary.train(k[i])\n",
    "        weights.append(binary.W)\n",
    "        biases.append(binary.b)\n",
    "        v_new = binary.H_train\n",
    "        \n",
    "    return weights, biases"
   ]
  },
  {
   "cell_type": "markdown",
   "metadata": {},
   "source": [
    "1. Finding $\\sigma^{2}$ for visible nodes\n",
    "2. Whitening of data for GBRMB?\n",
    "3. Choice of initial conditions\n",
    "\n"
   ]
  },
  {
   "cell_type": "markdown",
   "metadata": {},
   "source": [
    "### Data pre-processing - Whitening the images"
   ]
  },
  {
   "cell_type": "code",
   "execution_count": 9,
   "metadata": {},
   "outputs": [],
   "source": [
    "label_dict = {\n",
    "    'tallbuilding': 1,\n",
    "    'mountain': 4,\n",
    "    'highway': 6,\n",
    "    'coast': 8,\n",
    "    'opencountry' : 3    \n",
    "}\n",
    "\n",
    "trainloader, testloader = train_test_loader('Data_Set_1(Colored_Images)', label_dict, train_fraction=0.8, num_workers=0, bs_fraction = 1)"
   ]
  },
  {
   "cell_type": "code",
   "execution_count": 10,
   "metadata": {},
   "outputs": [],
   "source": [
    "v = list(trainloader)[0][0]\n",
    "v_centered = v - torch.stack([torch.mean(v, 0)]*v.shape[0], dim=0)\n",
    "cov = torch.mm(v_centered.T, v_centered)/v_centered.shape[0]\n",
    "U, S, V = torch.svd(cov)\n",
    "v_whitened = torch.mm(v_centered, U)/torch.sqrt(S)"
   ]
  },
  {
   "cell_type": "code",
   "execution_count": 13,
   "metadata": {
    "scrolled": true
   },
   "outputs": [
    {
     "name": "stdout",
     "output_type": "stream",
     "text": [
      "------Gaussian Binary RBM------\n",
      "Epoch: 1, Error: 1976417.75, Error diff :inf\n",
      "Epoch: 2, Error: 1979657.0, Error diff :-3239.25\n",
      "Epoch: 3, Error: 1977993.0, Error diff :1664.0\n",
      "Epoch: 4, Error: 1975409.625, Error diff :2583.375\n",
      "Epoch: 5, Error: 1978228.75, Error diff :-2819.125\n",
      "Epoch: 6, Error: 1976967.0, Error diff :1261.75\n",
      "Epoch: 7, Error: 1976130.5, Error diff :836.5\n",
      "Epoch: 8, Error: 1976587.0, Error diff :-456.5\n",
      "Epoch: 9, Error: 1976408.625, Error diff :178.375\n",
      "Epoch: 10, Error: 1978990.0, Error diff :-2581.375\n",
      "Epoch: 11, Error: 1971500.5, Error diff :7489.5\n",
      "Epoch: 12, Error: 1973394.75, Error diff :-1894.25\n",
      "Epoch: 13, Error: 1974927.375, Error diff :-1532.625\n",
      "Epoch: 14, Error: 1976651.75, Error diff :-1724.375\n",
      "Epoch: 15, Error: 1975852.125, Error diff :799.625\n",
      "Epoch: 16, Error: 1979080.25, Error diff :-3228.125\n",
      "Epoch: 17, Error: 1976518.5, Error diff :2561.75\n",
      "Epoch: 18, Error: 1978542.125, Error diff :-2023.625\n",
      "Epoch: 19, Error: 1975020.0, Error diff :3522.125\n",
      "Epoch: 20, Error: 1980545.125, Error diff :-5525.125\n",
      "Epoch: 21, Error: 1983458.0, Error diff :-2912.875\n",
      "Epoch: 22, Error: 1976005.0, Error diff :7453.0\n",
      "Epoch: 23, Error: 1977079.375, Error diff :-1074.375\n",
      "Epoch: 24, Error: 1974143.5, Error diff :2935.875\n"
     ]
    },
    {
     "ename": "KeyboardInterrupt",
     "evalue": "",
     "output_type": "error",
     "traceback": [
      "\u001b[1;31m---------------------------------------------------------------------------\u001b[0m",
      "\u001b[1;31mKeyboardInterrupt\u001b[0m                         Traceback (most recent call last)",
      "\u001b[1;32m<ipython-input-13-ebe7aa6f1165>\u001b[0m in \u001b[0;36m<module>\u001b[1;34m\u001b[0m\n\u001b[0;32m      4\u001b[0m \u001b[0mk_list\u001b[0m \u001b[1;33m=\u001b[0m \u001b[1;33m[\u001b[0m\u001b[1;36m100\u001b[0m\u001b[1;33m]\u001b[0m\u001b[1;33m*\u001b[0m\u001b[1;36m3\u001b[0m\u001b[1;33m\u001b[0m\u001b[1;33m\u001b[0m\u001b[0m\n\u001b[0;32m      5\u001b[0m \u001b[1;33m\u001b[0m\u001b[0m\n\u001b[1;32m----> 6\u001b[1;33m \u001b[0mweights_pre_trained\u001b[0m\u001b[1;33m,\u001b[0m \u001b[0mbiases_pre_trained\u001b[0m \u001b[1;33m=\u001b[0m \u001b[0mGaussian_stacked_RBM\u001b[0m\u001b[1;33m(\u001b[0m\u001b[0mv_whitened\u001b[0m\u001b[1;33m,\u001b[0m \u001b[0mn_stacks\u001b[0m\u001b[1;33m,\u001b[0m \u001b[0mh_layers_len\u001b[0m\u001b[1;33m,\u001b[0m \u001b[0mlearning_rates\u001b[0m\u001b[1;33m,\u001b[0m \u001b[0mk_list\u001b[0m\u001b[1;33m)\u001b[0m\u001b[1;33m\u001b[0m\u001b[1;33m\u001b[0m\u001b[0m\n\u001b[0m",
      "\u001b[1;32m<ipython-input-12-0fa1c1172656>\u001b[0m in \u001b[0;36mGaussian_stacked_RBM\u001b[1;34m(v, n_stacks, h_layers_len, learning_rates, k_list)\u001b[0m\n\u001b[0;32m     15\u001b[0m     \u001b[0mprint\u001b[0m\u001b[1;33m(\u001b[0m\u001b[1;34m'------Gaussian Binary RBM------'\u001b[0m\u001b[1;33m)\u001b[0m\u001b[1;33m\u001b[0m\u001b[1;33m\u001b[0m\u001b[0m\n\u001b[0;32m     16\u001b[0m     \u001b[0mgaussain\u001b[0m \u001b[1;33m=\u001b[0m \u001b[0mGBRBM\u001b[0m\u001b[1;33m(\u001b[0m\u001b[0mv_whitened\u001b[0m\u001b[1;33m.\u001b[0m\u001b[0mto\u001b[0m\u001b[1;33m(\u001b[0m\u001b[0mdevice\u001b[0m\u001b[1;33m)\u001b[0m\u001b[1;33m,\u001b[0m \u001b[0mh_layers_len\u001b[0m\u001b[1;33m[\u001b[0m\u001b[1;36m0\u001b[0m\u001b[1;33m]\u001b[0m\u001b[1;33m,\u001b[0m \u001b[0mlearning_rates\u001b[0m\u001b[1;33m[\u001b[0m\u001b[1;36m0\u001b[0m\u001b[1;33m]\u001b[0m\u001b[1;33m[\u001b[0m\u001b[1;36m0\u001b[0m\u001b[1;33m]\u001b[0m\u001b[1;33m,\u001b[0m \u001b[0mlearning_rates\u001b[0m\u001b[1;33m[\u001b[0m\u001b[1;36m0\u001b[0m\u001b[1;33m]\u001b[0m\u001b[1;33m[\u001b[0m\u001b[1;36m1\u001b[0m\u001b[1;33m]\u001b[0m\u001b[1;33m)\u001b[0m\u001b[1;33m\u001b[0m\u001b[1;33m\u001b[0m\u001b[0m\n\u001b[1;32m---> 17\u001b[1;33m     \u001b[0mgaussain\u001b[0m\u001b[1;33m.\u001b[0m\u001b[0mtrain\u001b[0m\u001b[1;33m(\u001b[0m\u001b[0mk_list\u001b[0m\u001b[1;33m[\u001b[0m\u001b[1;36m0\u001b[0m\u001b[1;33m]\u001b[0m\u001b[1;33m)\u001b[0m\u001b[1;33m\u001b[0m\u001b[1;33m\u001b[0m\u001b[0m\n\u001b[0m\u001b[0;32m     18\u001b[0m     \u001b[0mweights\u001b[0m\u001b[1;33m.\u001b[0m\u001b[0mappend\u001b[0m\u001b[1;33m(\u001b[0m\u001b[0mgaussain\u001b[0m\u001b[1;33m.\u001b[0m\u001b[0mW\u001b[0m\u001b[1;33m)\u001b[0m\u001b[1;33m\u001b[0m\u001b[1;33m\u001b[0m\u001b[0m\n\u001b[0;32m     19\u001b[0m     \u001b[0mbiases\u001b[0m\u001b[1;33m.\u001b[0m\u001b[0mappend\u001b[0m\u001b[1;33m(\u001b[0m\u001b[0mgaussain\u001b[0m\u001b[1;33m.\u001b[0m\u001b[0mb\u001b[0m\u001b[1;33m)\u001b[0m\u001b[1;33m\u001b[0m\u001b[1;33m\u001b[0m\u001b[0m\n",
      "\u001b[1;32m<ipython-input-8-22a2d50052e8>\u001b[0m in \u001b[0;36mtrain\u001b[1;34m(self, k)\u001b[0m\n\u001b[0;32m     67\u001b[0m             \u001b[0mep\u001b[0m \u001b[1;33m+=\u001b[0m \u001b[1;36m1\u001b[0m\u001b[1;33m\u001b[0m\u001b[1;33m\u001b[0m\u001b[0m\n\u001b[0;32m     68\u001b[0m             \u001b[1;31m## Check if error should be SSE?\u001b[0m\u001b[1;33m\u001b[0m\u001b[1;33m\u001b[0m\u001b[1;33m\u001b[0m\u001b[0m\n\u001b[1;32m---> 69\u001b[1;33m             \u001b[0mV_k\u001b[0m\u001b[1;33m,\u001b[0m \u001b[0mH_k\u001b[0m \u001b[1;33m=\u001b[0m \u001b[0mself\u001b[0m\u001b[1;33m.\u001b[0m\u001b[0mone_epoch\u001b[0m\u001b[1;33m(\u001b[0m\u001b[0mk\u001b[0m\u001b[1;33m)\u001b[0m\u001b[1;33m\u001b[0m\u001b[1;33m\u001b[0m\u001b[0m\n\u001b[0m\u001b[0;32m     70\u001b[0m \u001b[1;33m\u001b[0m\u001b[0m\n\u001b[0;32m     71\u001b[0m             \u001b[0merror_new\u001b[0m \u001b[1;33m=\u001b[0m \u001b[0mtorch\u001b[0m\u001b[1;33m.\u001b[0m\u001b[0msum\u001b[0m\u001b[1;33m(\u001b[0m\u001b[1;33m(\u001b[0m\u001b[0mV_k\u001b[0m \u001b[1;33m-\u001b[0m \u001b[0mself\u001b[0m\u001b[1;33m.\u001b[0m\u001b[0mV\u001b[0m\u001b[1;33m)\u001b[0m\u001b[1;33m**\u001b[0m\u001b[1;36m2\u001b[0m\u001b[1;33m)\u001b[0m\u001b[1;33m\u001b[0m\u001b[1;33m\u001b[0m\u001b[0m\n",
      "\u001b[1;32m<ipython-input-8-22a2d50052e8>\u001b[0m in \u001b[0;36mone_epoch\u001b[1;34m(self, k)\u001b[0m\n\u001b[0;32m     46\u001b[0m             \u001b[0mv_t\u001b[0m \u001b[1;33m=\u001b[0m \u001b[0mv0\u001b[0m\u001b[1;33m\u001b[0m\u001b[1;33m\u001b[0m\u001b[0m\n\u001b[0;32m     47\u001b[0m             \u001b[1;32mfor\u001b[0m \u001b[0mt\u001b[0m \u001b[1;32min\u001b[0m \u001b[0mrange\u001b[0m\u001b[1;33m(\u001b[0m\u001b[0mk\u001b[0m\u001b[1;33m)\u001b[0m\u001b[1;33m:\u001b[0m\u001b[1;33m\u001b[0m\u001b[1;33m\u001b[0m\u001b[0m\n\u001b[1;32m---> 48\u001b[1;33m                 \u001b[0mp_h_vt\u001b[0m\u001b[1;33m,\u001b[0m \u001b[0mh_t\u001b[0m \u001b[1;33m=\u001b[0m \u001b[0mself\u001b[0m\u001b[1;33m.\u001b[0m\u001b[0mget_h\u001b[0m\u001b[1;33m(\u001b[0m\u001b[0mv_t\u001b[0m\u001b[1;33m)\u001b[0m\u001b[1;33m\u001b[0m\u001b[1;33m\u001b[0m\u001b[0m\n\u001b[0m\u001b[0;32m     49\u001b[0m                 \u001b[1;32mif\u001b[0m \u001b[0mt\u001b[0m\u001b[1;33m==\u001b[0m\u001b[1;36m0\u001b[0m\u001b[1;33m:\u001b[0m\u001b[1;33m\u001b[0m\u001b[1;33m\u001b[0m\u001b[0m\n\u001b[0;32m     50\u001b[0m                     \u001b[0mp_h_v0\u001b[0m \u001b[1;33m=\u001b[0m \u001b[0mp_h_vt\u001b[0m\u001b[1;33m\u001b[0m\u001b[1;33m\u001b[0m\u001b[0m\n",
      "\u001b[1;32m<ipython-input-8-22a2d50052e8>\u001b[0m in \u001b[0;36mget_h\u001b[1;34m(self, v)\u001b[0m\n\u001b[0;32m     20\u001b[0m     \u001b[1;32mdef\u001b[0m \u001b[0mget_h\u001b[0m\u001b[1;33m(\u001b[0m\u001b[0mself\u001b[0m\u001b[1;33m,\u001b[0m \u001b[0mv\u001b[0m\u001b[1;33m)\u001b[0m\u001b[1;33m:\u001b[0m\u001b[1;33m\u001b[0m\u001b[1;33m\u001b[0m\u001b[0m\n\u001b[0;32m     21\u001b[0m \u001b[1;33m\u001b[0m\u001b[0m\n\u001b[1;32m---> 22\u001b[1;33m         \u001b[0ma\u001b[0m \u001b[1;33m=\u001b[0m \u001b[0mtorch\u001b[0m\u001b[1;33m.\u001b[0m\u001b[0mmm\u001b[0m\u001b[1;33m(\u001b[0m\u001b[1;33m(\u001b[0m\u001b[0mv\u001b[0m\u001b[1;33m/\u001b[0m\u001b[0mself\u001b[0m\u001b[1;33m.\u001b[0m\u001b[0msigma2\u001b[0m\u001b[1;33m)\u001b[0m\u001b[1;33m.\u001b[0m\u001b[0mview\u001b[0m\u001b[1;33m(\u001b[0m\u001b[1;36m1\u001b[0m\u001b[1;33m,\u001b[0m\u001b[1;33m-\u001b[0m\u001b[1;36m1\u001b[0m\u001b[1;33m)\u001b[0m\u001b[1;33m,\u001b[0m \u001b[0mself\u001b[0m\u001b[1;33m.\u001b[0m\u001b[0mW\u001b[0m\u001b[1;33m)\u001b[0m \u001b[1;33m+\u001b[0m \u001b[0mself\u001b[0m\u001b[1;33m.\u001b[0m\u001b[0mc\u001b[0m\u001b[1;33m\u001b[0m\u001b[1;33m\u001b[0m\u001b[0m\n\u001b[0m\u001b[0;32m     23\u001b[0m         \u001b[0mf\u001b[0m \u001b[1;33m=\u001b[0m \u001b[0mtorch\u001b[0m\u001b[1;33m.\u001b[0m\u001b[0mnn\u001b[0m\u001b[1;33m.\u001b[0m\u001b[0mSigmoid\u001b[0m\u001b[1;33m(\u001b[0m\u001b[1;33m)\u001b[0m\u001b[1;33m\u001b[0m\u001b[1;33m\u001b[0m\u001b[0m\n\u001b[0;32m     24\u001b[0m         \u001b[0mp_h_v\u001b[0m \u001b[1;33m=\u001b[0m \u001b[0mf\u001b[0m\u001b[1;33m(\u001b[0m\u001b[0ma\u001b[0m\u001b[1;33m)\u001b[0m\u001b[1;33m\u001b[0m\u001b[1;33m\u001b[0m\u001b[0m\n",
      "\u001b[1;31mKeyboardInterrupt\u001b[0m: "
     ]
    }
   ],
   "source": [
    "n_stacks = 3\n",
    "h_layers_len = [1000, 800, 600]\n",
    "learning_rates = [[0.001, 0.0001]*3]\n",
    "k_list = [100]*3\n",
    "\n",
    "weights_pre_trained, biases_pre_trained = Gaussian_stacked_RBM(v_whitened, n_stacks, h_layers_len, learning_rates, k_list)"
   ]
  },
  {
   "cell_type": "code",
   "execution_count": null,
   "metadata": {},
   "outputs": [],
   "source": [
    "classifier = FinalNet(v.shape[1], h_layers_len, len(np.unique(np.array(trainloader)[0][1]))) "
   ]
  },
  {
   "cell_type": "code",
   "execution_count": null,
   "metadata": {},
   "outputs": [],
   "source": [
    "with torch.no_grad():\n",
    "    \n",
    "    classifier.fc1.weight.data = nn.Parameter(weights_pre_trained[0])\n",
    "    classifier.fc1.bias.data = nn.Parameter(biases_pre_trained[0])\n",
    "    \n",
    "    classifier.fc2.weight = nn.Parameter(weights_pre_trained[1])\n",
    "    classifier.fc2.bias = nn.Parameter(biases_pre_trained[1])\n",
    "    \n",
    "    classifier.fc3.weight = nn.Parameter(weights_pre_trained[2])\n",
    "    classifier.fc3.bias = nn.Parameter(biases_pre_trained[2])"
   ]
  },
  {
   "cell_type": "code",
   "execution_count": null,
   "metadata": {},
   "outputs": [],
   "source": [
    "criterion = nn.CrossEntropyLoss()\n",
    "optimizer = optim.SGD(classifier.parameters(), lr=0.001, momentum=0.9)\n",
    "classifier = classifier.to(device)"
   ]
  },
  {
   "cell_type": "code",
   "execution_count": null,
   "metadata": {},
   "outputs": [],
   "source": [
    "trainloader, testloader = train_test_loader('Data_Set_1(Colored_Images)', label_dict, train_fraction=0.8, num_workers=0, bs_fraction = 0.2)"
   ]
  },
  {
   "cell_type": "code",
   "execution_count": null,
   "metadata": {},
   "outputs": [],
   "source": [
    "old_loss = np.inf\n",
    "\n",
    "max_epoch = 500\n",
    "\n",
    "for epoch in range(max_epoch):\n",
    "\n",
    "    running_loss = 0.0\n",
    "    \n",
    "    for data in trainloader:\n",
    "        \n",
    "        X, y = data[0].to(device), data[1].to(device)\n",
    "        \n",
    "        optimizer.zero_grad()\n",
    "        \n",
    "        # Forward\n",
    "        y_hat = classifier(X)\n",
    "        \n",
    "        # Calculate Loss (Cross Entropy)\n",
    "        loss = criterion(y_hat, y)\n",
    "        \n",
    "        # Backpropagation\n",
    "        loss.backward()\n",
    "        \n",
    "        # Update Parameters\n",
    "        optimizer.step()\n",
    "        \n",
    "        running_loss += loss.item()\n",
    "    \n",
    "    print('Epoch', epoch+1, ': Loss =', running_loss)\n",
    "    \n",
    "    if abs(running_loss-old_loss)/running_loss < 1e-3:\n",
    "        print('Converged')\n",
    "        break\n",
    "    \n",
    "    old_loss = running_loss\n",
    "\n",
    "print('Finished Training')"
   ]
  },
  {
   "cell_type": "markdown",
   "metadata": {},
   "source": [
    "## ---------------------- End of code ---------------------- "
   ]
  },
  {
   "cell_type": "code",
   "execution_count": 75,
   "metadata": {
    "collapsed": true
   },
   "outputs": [
    {
     "name": "stdout",
     "output_type": "stream",
     "text": [
      "Epoch: 1, Error: 1973867.0, Error diff :inf\n",
      "Epoch: 2, Error: 1975916.375, Error diff :-2049.375\n",
      "Epoch: 3, Error: 1974804.625, Error diff :1111.75\n",
      "Epoch: 4, Error: 1978021.375, Error diff :-3216.75\n"
     ]
    },
    {
     "ename": "KeyboardInterrupt",
     "evalue": "",
     "output_type": "error",
     "traceback": [
      "\u001b[1;31m---------------------------------------------------------------------------\u001b[0m",
      "\u001b[1;31mKeyboardInterrupt\u001b[0m                         Traceback (most recent call last)",
      "\u001b[1;32m<ipython-input-75-337b3fd1124c>\u001b[0m in \u001b[0;36m<module>\u001b[1;34m\u001b[0m\n\u001b[1;32m----> 1\u001b[1;33m \u001b[0mvk\u001b[0m \u001b[1;33m=\u001b[0m \u001b[0mgaussian\u001b[0m\u001b[1;33m.\u001b[0m\u001b[0mtrain\u001b[0m\u001b[1;33m(\u001b[0m\u001b[1;36m100\u001b[0m\u001b[1;33m)\u001b[0m\u001b[1;33m\u001b[0m\u001b[1;33m\u001b[0m\u001b[0m\n\u001b[0m",
      "\u001b[1;32m<ipython-input-69-d00a0ba308dc>\u001b[0m in \u001b[0;36mtrain\u001b[1;34m(self, k)\u001b[0m\n\u001b[0;32m     67\u001b[0m             \u001b[0mep\u001b[0m \u001b[1;33m+=\u001b[0m \u001b[1;36m1\u001b[0m\u001b[1;33m\u001b[0m\u001b[1;33m\u001b[0m\u001b[0m\n\u001b[0;32m     68\u001b[0m             \u001b[1;31m## Check if error should be SSE?\u001b[0m\u001b[1;33m\u001b[0m\u001b[1;33m\u001b[0m\u001b[1;33m\u001b[0m\u001b[0m\n\u001b[1;32m---> 69\u001b[1;33m             \u001b[0mV_k\u001b[0m \u001b[1;33m=\u001b[0m \u001b[0mself\u001b[0m\u001b[1;33m.\u001b[0m\u001b[0mone_epoch\u001b[0m\u001b[1;33m(\u001b[0m\u001b[0mk\u001b[0m\u001b[1;33m)\u001b[0m\u001b[1;33m\u001b[0m\u001b[1;33m\u001b[0m\u001b[0m\n\u001b[0m\u001b[0;32m     70\u001b[0m \u001b[1;33m\u001b[0m\u001b[0m\n\u001b[0;32m     71\u001b[0m \u001b[1;31m#             print(torch.sum(V_k), V_k)\u001b[0m\u001b[1;33m\u001b[0m\u001b[1;33m\u001b[0m\u001b[1;33m\u001b[0m\u001b[0m\n",
      "\u001b[1;32m<ipython-input-69-d00a0ba308dc>\u001b[0m in \u001b[0;36mone_epoch\u001b[1;34m(self, k)\u001b[0m\n\u001b[0;32m     50\u001b[0m                 \u001b[1;32mif\u001b[0m \u001b[0mt\u001b[0m\u001b[1;33m==\u001b[0m\u001b[1;36m0\u001b[0m\u001b[1;33m:\u001b[0m\u001b[1;33m\u001b[0m\u001b[1;33m\u001b[0m\u001b[0m\n\u001b[0;32m     51\u001b[0m                     \u001b[0mp_h_v0\u001b[0m \u001b[1;33m=\u001b[0m \u001b[0mp_h_vt\u001b[0m\u001b[1;33m\u001b[0m\u001b[1;33m\u001b[0m\u001b[0m\n\u001b[1;32m---> 52\u001b[1;33m                 \u001b[0mv_t1\u001b[0m \u001b[1;33m=\u001b[0m \u001b[0mself\u001b[0m\u001b[1;33m.\u001b[0m\u001b[0mget_v\u001b[0m\u001b[1;33m(\u001b[0m\u001b[0mh_t\u001b[0m\u001b[1;33m)\u001b[0m\u001b[1;33m\u001b[0m\u001b[1;33m\u001b[0m\u001b[0m\n\u001b[0m\u001b[0;32m     53\u001b[0m                 \u001b[0mv_t\u001b[0m \u001b[1;33m=\u001b[0m \u001b[0mv_t1\u001b[0m\u001b[1;33m\u001b[0m\u001b[1;33m\u001b[0m\u001b[0m\n\u001b[0;32m     54\u001b[0m \u001b[1;33m\u001b[0m\u001b[0m\n",
      "\u001b[1;32m<ipython-input-69-d00a0ba308dc>\u001b[0m in \u001b[0;36mget_v\u001b[1;34m(self, h)\u001b[0m\n\u001b[0;32m     26\u001b[0m \u001b[1;33m\u001b[0m\u001b[0m\n\u001b[0;32m     27\u001b[0m     \u001b[1;32mdef\u001b[0m \u001b[0mget_v\u001b[0m\u001b[1;33m(\u001b[0m\u001b[0mself\u001b[0m\u001b[1;33m,\u001b[0m \u001b[0mh\u001b[0m\u001b[1;33m)\u001b[0m\u001b[1;33m:\u001b[0m\u001b[1;33m\u001b[0m\u001b[1;33m\u001b[0m\u001b[0m\n\u001b[1;32m---> 28\u001b[1;33m         \u001b[0ma\u001b[0m \u001b[1;33m=\u001b[0m \u001b[0mtorch\u001b[0m\u001b[1;33m.\u001b[0m\u001b[0mmm\u001b[0m\u001b[1;33m(\u001b[0m\u001b[0mh\u001b[0m\u001b[1;33m.\u001b[0m\u001b[0mview\u001b[0m\u001b[1;33m(\u001b[0m\u001b[1;36m1\u001b[0m\u001b[1;33m,\u001b[0m\u001b[1;33m-\u001b[0m\u001b[1;36m1\u001b[0m\u001b[1;33m)\u001b[0m\u001b[1;33m,\u001b[0m \u001b[0mself\u001b[0m\u001b[1;33m.\u001b[0m\u001b[0mW\u001b[0m\u001b[1;33m.\u001b[0m\u001b[0mT\u001b[0m\u001b[1;33m)\u001b[0m \u001b[1;33m+\u001b[0m \u001b[0mself\u001b[0m\u001b[1;33m.\u001b[0m\u001b[0mb\u001b[0m \u001b[1;31m# mean of normal dist\u001b[0m\u001b[1;33m\u001b[0m\u001b[1;33m\u001b[0m\u001b[0m\n\u001b[0m\u001b[0;32m     29\u001b[0m         \u001b[1;32mif\u001b[0m \u001b[1;33m(\u001b[0m\u001b[0mtorch\u001b[0m\u001b[1;33m.\u001b[0m\u001b[0misnan\u001b[0m\u001b[1;33m(\u001b[0m\u001b[0ma\u001b[0m\u001b[1;33m)\u001b[0m\u001b[1;33m)\u001b[0m\u001b[1;33m.\u001b[0m\u001b[0many\u001b[0m\u001b[1;33m(\u001b[0m\u001b[1;33m)\u001b[0m\u001b[1;33m.\u001b[0m\u001b[0mitem\u001b[0m\u001b[1;33m(\u001b[0m\u001b[1;33m)\u001b[0m\u001b[1;33m:\u001b[0m\u001b[1;33m\u001b[0m\u001b[1;33m\u001b[0m\u001b[0m\n\u001b[0;32m     30\u001b[0m             \u001b[0mpdb\u001b[0m\u001b[1;33m.\u001b[0m\u001b[0mset_trace\u001b[0m\u001b[1;33m(\u001b[0m\u001b[1;33m)\u001b[0m\u001b[1;33m\u001b[0m\u001b[1;33m\u001b[0m\u001b[0m\n",
      "\u001b[1;31mKeyboardInterrupt\u001b[0m: "
     ]
    }
   ],
   "source": [
    "# vk = gaussian.train(100)"
   ]
  },
  {
   "cell_type": "code",
   "execution_count": 73,
   "metadata": {
    "collapsed": true
   },
   "outputs": [
    {
     "name": "stdout",
     "output_type": "stream",
     "text": [
      "Epoch: 1, Error: 1977611.875, Error diff :inf\n",
      "Epoch: 2, Error: 1973322.0, Error diff :4289.875\n",
      "Epoch: 3, Error: 1976089.25, Error diff :-2767.25\n",
      "Epoch: 4, Error: 1976391.875, Error diff :-302.625\n",
      "Epoch: 5, Error: 1975308.25, Error diff :1083.625\n",
      "Epoch: 6, Error: 1975171.5, Error diff :136.75\n",
      "Epoch: 7, Error: 1977419.125, Error diff :-2247.625\n",
      "Epoch: 8, Error: 1978926.75, Error diff :-1507.625\n",
      "Epoch: 9, Error: 1972214.5, Error diff :6712.25\n",
      "Epoch: 10, Error: 1975139.0, Error diff :-2924.5\n",
      "Epoch: 11, Error: 1972550.25, Error diff :2588.75\n",
      "Epoch: 12, Error: 1974438.5, Error diff :-1888.25\n"
     ]
    },
    {
     "ename": "KeyboardInterrupt",
     "evalue": "",
     "output_type": "error",
     "traceback": [
      "\u001b[1;31m---------------------------------------------------------------------------\u001b[0m",
      "\u001b[1;31mKeyboardInterrupt\u001b[0m                         Traceback (most recent call last)",
      "\u001b[1;32m<ipython-input-73-337b3fd1124c>\u001b[0m in \u001b[0;36m<module>\u001b[1;34m\u001b[0m\n\u001b[1;32m----> 1\u001b[1;33m \u001b[0mvk\u001b[0m \u001b[1;33m=\u001b[0m \u001b[0mgaussian\u001b[0m\u001b[1;33m.\u001b[0m\u001b[0mtrain\u001b[0m\u001b[1;33m(\u001b[0m\u001b[1;36m100\u001b[0m\u001b[1;33m)\u001b[0m\u001b[1;33m\u001b[0m\u001b[1;33m\u001b[0m\u001b[0m\n\u001b[0m",
      "\u001b[1;32m<ipython-input-69-d00a0ba308dc>\u001b[0m in \u001b[0;36mtrain\u001b[1;34m(self, k)\u001b[0m\n\u001b[0;32m     67\u001b[0m             \u001b[0mep\u001b[0m \u001b[1;33m+=\u001b[0m \u001b[1;36m1\u001b[0m\u001b[1;33m\u001b[0m\u001b[1;33m\u001b[0m\u001b[0m\n\u001b[0;32m     68\u001b[0m             \u001b[1;31m## Check if error should be SSE?\u001b[0m\u001b[1;33m\u001b[0m\u001b[1;33m\u001b[0m\u001b[1;33m\u001b[0m\u001b[0m\n\u001b[1;32m---> 69\u001b[1;33m             \u001b[0mV_k\u001b[0m \u001b[1;33m=\u001b[0m \u001b[0mself\u001b[0m\u001b[1;33m.\u001b[0m\u001b[0mone_epoch\u001b[0m\u001b[1;33m(\u001b[0m\u001b[0mk\u001b[0m\u001b[1;33m)\u001b[0m\u001b[1;33m\u001b[0m\u001b[1;33m\u001b[0m\u001b[0m\n\u001b[0m\u001b[0;32m     70\u001b[0m \u001b[1;33m\u001b[0m\u001b[0m\n\u001b[0;32m     71\u001b[0m \u001b[1;31m#             print(torch.sum(V_k), V_k)\u001b[0m\u001b[1;33m\u001b[0m\u001b[1;33m\u001b[0m\u001b[1;33m\u001b[0m\u001b[0m\n",
      "\u001b[1;32m<ipython-input-69-d00a0ba308dc>\u001b[0m in \u001b[0;36mone_epoch\u001b[1;34m(self, k)\u001b[0m\n\u001b[0;32m     50\u001b[0m                 \u001b[1;32mif\u001b[0m \u001b[0mt\u001b[0m\u001b[1;33m==\u001b[0m\u001b[1;36m0\u001b[0m\u001b[1;33m:\u001b[0m\u001b[1;33m\u001b[0m\u001b[1;33m\u001b[0m\u001b[0m\n\u001b[0;32m     51\u001b[0m                     \u001b[0mp_h_v0\u001b[0m \u001b[1;33m=\u001b[0m \u001b[0mp_h_vt\u001b[0m\u001b[1;33m\u001b[0m\u001b[1;33m\u001b[0m\u001b[0m\n\u001b[1;32m---> 52\u001b[1;33m                 \u001b[0mv_t1\u001b[0m \u001b[1;33m=\u001b[0m \u001b[0mself\u001b[0m\u001b[1;33m.\u001b[0m\u001b[0mget_v\u001b[0m\u001b[1;33m(\u001b[0m\u001b[0mh_t\u001b[0m\u001b[1;33m)\u001b[0m\u001b[1;33m\u001b[0m\u001b[1;33m\u001b[0m\u001b[0m\n\u001b[0m\u001b[0;32m     53\u001b[0m                 \u001b[0mv_t\u001b[0m \u001b[1;33m=\u001b[0m \u001b[0mv_t1\u001b[0m\u001b[1;33m\u001b[0m\u001b[1;33m\u001b[0m\u001b[0m\n\u001b[0;32m     54\u001b[0m \u001b[1;33m\u001b[0m\u001b[0m\n",
      "\u001b[1;32m<ipython-input-69-d00a0ba308dc>\u001b[0m in \u001b[0;36mget_v\u001b[1;34m(self, h)\u001b[0m\n\u001b[0;32m     26\u001b[0m \u001b[1;33m\u001b[0m\u001b[0m\n\u001b[0;32m     27\u001b[0m     \u001b[1;32mdef\u001b[0m \u001b[0mget_v\u001b[0m\u001b[1;33m(\u001b[0m\u001b[0mself\u001b[0m\u001b[1;33m,\u001b[0m \u001b[0mh\u001b[0m\u001b[1;33m)\u001b[0m\u001b[1;33m:\u001b[0m\u001b[1;33m\u001b[0m\u001b[1;33m\u001b[0m\u001b[0m\n\u001b[1;32m---> 28\u001b[1;33m         \u001b[0ma\u001b[0m \u001b[1;33m=\u001b[0m \u001b[0mtorch\u001b[0m\u001b[1;33m.\u001b[0m\u001b[0mmm\u001b[0m\u001b[1;33m(\u001b[0m\u001b[0mh\u001b[0m\u001b[1;33m.\u001b[0m\u001b[0mview\u001b[0m\u001b[1;33m(\u001b[0m\u001b[1;36m1\u001b[0m\u001b[1;33m,\u001b[0m\u001b[1;33m-\u001b[0m\u001b[1;36m1\u001b[0m\u001b[1;33m)\u001b[0m\u001b[1;33m,\u001b[0m \u001b[0mself\u001b[0m\u001b[1;33m.\u001b[0m\u001b[0mW\u001b[0m\u001b[1;33m.\u001b[0m\u001b[0mT\u001b[0m\u001b[1;33m)\u001b[0m \u001b[1;33m+\u001b[0m \u001b[0mself\u001b[0m\u001b[1;33m.\u001b[0m\u001b[0mb\u001b[0m \u001b[1;31m# mean of normal dist\u001b[0m\u001b[1;33m\u001b[0m\u001b[1;33m\u001b[0m\u001b[0m\n\u001b[0m\u001b[0;32m     29\u001b[0m         \u001b[1;32mif\u001b[0m \u001b[1;33m(\u001b[0m\u001b[0mtorch\u001b[0m\u001b[1;33m.\u001b[0m\u001b[0misnan\u001b[0m\u001b[1;33m(\u001b[0m\u001b[0ma\u001b[0m\u001b[1;33m)\u001b[0m\u001b[1;33m)\u001b[0m\u001b[1;33m.\u001b[0m\u001b[0many\u001b[0m\u001b[1;33m(\u001b[0m\u001b[1;33m)\u001b[0m\u001b[1;33m.\u001b[0m\u001b[0mitem\u001b[0m\u001b[1;33m(\u001b[0m\u001b[1;33m)\u001b[0m\u001b[1;33m:\u001b[0m\u001b[1;33m\u001b[0m\u001b[1;33m\u001b[0m\u001b[0m\n\u001b[0;32m     30\u001b[0m             \u001b[0mpdb\u001b[0m\u001b[1;33m.\u001b[0m\u001b[0mset_trace\u001b[0m\u001b[1;33m(\u001b[0m\u001b[1;33m)\u001b[0m\u001b[1;33m\u001b[0m\u001b[1;33m\u001b[0m\u001b[0m\n",
      "\u001b[1;31mKeyboardInterrupt\u001b[0m: "
     ]
    }
   ],
   "source": [
    "# vk = gaussian.train(100)"
   ]
  },
  {
   "cell_type": "code",
   "execution_count": 71,
   "metadata": {
    "collapsed": true
   },
   "outputs": [
    {
     "name": "stdout",
     "output_type": "stream",
     "text": [
      "Epoch: 1, Error: 1974060.25, Error diff :inf\n",
      "Epoch: 2, Error: 1977599.25, Error diff :-3539.0\n",
      "Epoch: 3, Error: 1975388.75, Error diff :2210.5\n",
      "Epoch: 4, Error: 1976873.25, Error diff :-1484.5\n",
      "Epoch: 5, Error: 1971814.0, Error diff :5059.25\n",
      "Epoch: 6, Error: 1974177.0, Error diff :-2363.0\n",
      "Epoch: 7, Error: 1977052.5, Error diff :-2875.5\n",
      "Epoch: 8, Error: 1973869.75, Error diff :3182.75\n",
      "Epoch: 9, Error: 1974948.625, Error diff :-1078.875\n",
      "Epoch: 10, Error: 1978998.125, Error diff :-4049.5\n",
      "Epoch: 11, Error: 1977689.25, Error diff :1308.875\n",
      "Epoch: 12, Error: 1977256.5, Error diff :432.75\n",
      "Epoch: 13, Error: 1973529.25, Error diff :3727.25\n",
      "Epoch: 14, Error: 1975417.75, Error diff :-1888.5\n",
      "Epoch: 15, Error: 1973446.75, Error diff :1971.0\n",
      "Epoch: 16, Error: 1977433.0, Error diff :-3986.25\n",
      "Epoch: 17, Error: 1978050.75, Error diff :-617.75\n",
      "Epoch: 18, Error: 1979904.5, Error diff :-1853.75\n",
      "Epoch: 19, Error: 1977246.5, Error diff :2658.0\n",
      "Epoch: 20, Error: 1976824.25, Error diff :422.25\n",
      "Epoch: 21, Error: 1977597.625, Error diff :-773.375\n",
      "Epoch: 22, Error: 1972732.25, Error diff :4865.375\n",
      "Epoch: 23, Error: 1977069.75, Error diff :-4337.5\n",
      "Epoch: 24, Error: 1975047.0, Error diff :2022.75\n"
     ]
    },
    {
     "ename": "KeyboardInterrupt",
     "evalue": "",
     "output_type": "error",
     "traceback": [
      "\u001b[1;31m---------------------------------------------------------------------------\u001b[0m",
      "\u001b[1;31mKeyboardInterrupt\u001b[0m                         Traceback (most recent call last)",
      "\u001b[1;32m<ipython-input-71-337b3fd1124c>\u001b[0m in \u001b[0;36m<module>\u001b[1;34m\u001b[0m\n\u001b[1;32m----> 1\u001b[1;33m \u001b[0mvk\u001b[0m \u001b[1;33m=\u001b[0m \u001b[0mgaussian\u001b[0m\u001b[1;33m.\u001b[0m\u001b[0mtrain\u001b[0m\u001b[1;33m(\u001b[0m\u001b[1;36m100\u001b[0m\u001b[1;33m)\u001b[0m\u001b[1;33m\u001b[0m\u001b[1;33m\u001b[0m\u001b[0m\n\u001b[0m",
      "\u001b[1;32m<ipython-input-69-d00a0ba308dc>\u001b[0m in \u001b[0;36mtrain\u001b[1;34m(self, k)\u001b[0m\n\u001b[0;32m     67\u001b[0m             \u001b[0mep\u001b[0m \u001b[1;33m+=\u001b[0m \u001b[1;36m1\u001b[0m\u001b[1;33m\u001b[0m\u001b[1;33m\u001b[0m\u001b[0m\n\u001b[0;32m     68\u001b[0m             \u001b[1;31m## Check if error should be SSE?\u001b[0m\u001b[1;33m\u001b[0m\u001b[1;33m\u001b[0m\u001b[1;33m\u001b[0m\u001b[0m\n\u001b[1;32m---> 69\u001b[1;33m             \u001b[0mV_k\u001b[0m \u001b[1;33m=\u001b[0m \u001b[0mself\u001b[0m\u001b[1;33m.\u001b[0m\u001b[0mone_epoch\u001b[0m\u001b[1;33m(\u001b[0m\u001b[0mk\u001b[0m\u001b[1;33m)\u001b[0m\u001b[1;33m\u001b[0m\u001b[1;33m\u001b[0m\u001b[0m\n\u001b[0m\u001b[0;32m     70\u001b[0m \u001b[1;33m\u001b[0m\u001b[0m\n\u001b[0;32m     71\u001b[0m \u001b[1;31m#             print(torch.sum(V_k), V_k)\u001b[0m\u001b[1;33m\u001b[0m\u001b[1;33m\u001b[0m\u001b[1;33m\u001b[0m\u001b[0m\n",
      "\u001b[1;32m<ipython-input-69-d00a0ba308dc>\u001b[0m in \u001b[0;36mone_epoch\u001b[1;34m(self, k)\u001b[0m\n\u001b[0;32m     50\u001b[0m                 \u001b[1;32mif\u001b[0m \u001b[0mt\u001b[0m\u001b[1;33m==\u001b[0m\u001b[1;36m0\u001b[0m\u001b[1;33m:\u001b[0m\u001b[1;33m\u001b[0m\u001b[1;33m\u001b[0m\u001b[0m\n\u001b[0;32m     51\u001b[0m                     \u001b[0mp_h_v0\u001b[0m \u001b[1;33m=\u001b[0m \u001b[0mp_h_vt\u001b[0m\u001b[1;33m\u001b[0m\u001b[1;33m\u001b[0m\u001b[0m\n\u001b[1;32m---> 52\u001b[1;33m                 \u001b[0mv_t1\u001b[0m \u001b[1;33m=\u001b[0m \u001b[0mself\u001b[0m\u001b[1;33m.\u001b[0m\u001b[0mget_v\u001b[0m\u001b[1;33m(\u001b[0m\u001b[0mh_t\u001b[0m\u001b[1;33m)\u001b[0m\u001b[1;33m\u001b[0m\u001b[1;33m\u001b[0m\u001b[0m\n\u001b[0m\u001b[0;32m     53\u001b[0m                 \u001b[0mv_t\u001b[0m \u001b[1;33m=\u001b[0m \u001b[0mv_t1\u001b[0m\u001b[1;33m\u001b[0m\u001b[1;33m\u001b[0m\u001b[0m\n\u001b[0;32m     54\u001b[0m \u001b[1;33m\u001b[0m\u001b[0m\n",
      "\u001b[1;32m<ipython-input-69-d00a0ba308dc>\u001b[0m in \u001b[0;36mget_v\u001b[1;34m(self, h)\u001b[0m\n\u001b[0;32m     31\u001b[0m         \u001b[1;32melse\u001b[0m\u001b[1;33m:\u001b[0m\u001b[1;33m\u001b[0m\u001b[1;33m\u001b[0m\u001b[0m\n\u001b[0;32m     32\u001b[0m             \u001b[1;32mpass\u001b[0m\u001b[1;33m\u001b[0m\u001b[1;33m\u001b[0m\u001b[0m\n\u001b[1;32m---> 33\u001b[1;33m         \u001b[0mv_h\u001b[0m \u001b[1;33m=\u001b[0m \u001b[0mtorch\u001b[0m\u001b[1;33m.\u001b[0m\u001b[0mnormal\u001b[0m\u001b[1;33m(\u001b[0m\u001b[0mmean\u001b[0m\u001b[1;33m=\u001b[0m\u001b[0ma\u001b[0m\u001b[1;33m,\u001b[0m \u001b[0mstd\u001b[0m\u001b[1;33m=\u001b[0m\u001b[0mtorch\u001b[0m\u001b[1;33m.\u001b[0m\u001b[0msqrt\u001b[0m\u001b[1;33m(\u001b[0m\u001b[0mself\u001b[0m\u001b[1;33m.\u001b[0m\u001b[0msigma2\u001b[0m\u001b[1;33m)\u001b[0m\u001b[1;33m)\u001b[0m\u001b[1;33m.\u001b[0m\u001b[0mto\u001b[0m\u001b[1;33m(\u001b[0m\u001b[0mdevice\u001b[0m\u001b[1;33m)\u001b[0m\u001b[1;33m\u001b[0m\u001b[1;33m\u001b[0m\u001b[0m\n\u001b[0m\u001b[0;32m     34\u001b[0m \u001b[1;31m#         print('-----', torch.sum(v_h), torch.sum(a),  torch.sum(torch.sqrt(self.sigma2)))\u001b[0m\u001b[1;33m\u001b[0m\u001b[1;33m\u001b[0m\u001b[1;33m\u001b[0m\u001b[0m\n\u001b[0;32m     35\u001b[0m         \u001b[1;32mreturn\u001b[0m \u001b[0mv_h\u001b[0m\u001b[1;33m\u001b[0m\u001b[1;33m\u001b[0m\u001b[0m\n",
      "\u001b[1;31mKeyboardInterrupt\u001b[0m: "
     ]
    }
   ],
   "source": [
    "# vk = gaussian.train(100)"
   ]
  },
  {
   "cell_type": "code",
   "execution_count": 60,
   "metadata": {},
   "outputs": [],
   "source": [
    "# v_len = 828\n",
    "# h_len = 1000\n",
    "# sigma2 = torch.var(v_whitened, 0)\n",
    "# W = torch.empty(v_len, h_len).uniform_(-sqrt(6/(v_len+h_len)), sqrt(6/(v_len+h_len))).to(device)\n",
    "# b = torch.mean(v_whitened, axis=0).view(1,-1).to(device)\n",
    "# c = torch.tensor([((torch.norm(b + W[:, i])**2 - torch.norm(b)**2)/(2*torch.var(v_whitened)) +  log(0.01)).item() for i in range(h_len)]).view(1,-1).to(device)"
   ]
  }
 ],
 "metadata": {
  "kernelspec": {
   "display_name": "Python 3",
   "language": "python",
   "name": "python3"
  },
  "language_info": {
   "codemirror_mode": {
    "name": "ipython",
    "version": 3
   },
   "file_extension": ".py",
   "mimetype": "text/x-python",
   "name": "python",
   "nbconvert_exporter": "python",
   "pygments_lexer": "ipython3",
   "version": "3.7.4"
  }
 },
 "nbformat": 4,
 "nbformat_minor": 2
}
